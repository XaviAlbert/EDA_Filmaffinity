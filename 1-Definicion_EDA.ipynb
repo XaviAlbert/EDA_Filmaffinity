{
 "cells": [
  {
   "attachments": {},
   "cell_type": "markdown",
   "metadata": {},
   "source": [
    "![imagen](./img/ejercicios.png)"
   ]
  },
  {
   "attachments": {},
   "cell_type": "markdown",
   "metadata": {},
   "source": [
    "# INFORMACIÓN DEL PROYECTO"
   ]
  },
  {
   "attachments": {},
   "cell_type": "markdown",
   "metadata": {},
   "source": [
    "### TÍTULO"
   ]
  },
  {
   "attachments": {},
   "cell_type": "markdown",
   "metadata": {},
   "source": [
    "Análisis cinematográfico de los últimos 50 años"
   ]
  },
  {
   "attachments": {},
   "cell_type": "markdown",
   "metadata": {},
   "source": [
    "### TEMA"
   ]
  },
  {
   "attachments": {},
   "cell_type": "markdown",
   "metadata": {},
   "source": [
    "Seleccionando más de 5000 películas, desde 1972 hasta la actualidad, con las mejores valoraciones, según los usuarios de Filmaffinity, voy a analizar la evolución de las películas teniendo en cuenta el año de estreno, duración, género, dirección, guión, protagonista, país, nota y votos."
   ]
  },
  {
   "attachments": {},
   "cell_type": "markdown",
   "metadata": {},
   "source": [
    "### HIPÓTESIS"
   ]
  },
  {
   "attachments": {},
   "cell_type": "markdown",
   "metadata": {},
   "source": [
    "1. Las películas más antiguas están mejor valoradas que las nuevas.\n",
    "2. En 2020 se estrenaron menos películas por el cierre de las salas devido a la pandemia.\n",
    "3. En los últimos 3 años se hacen más películas de más de 120 minutos.\n",
    "4. Existe correlación positiva entre la duración y la nota. A mayor duración, mayor valoración.\n",
    "5. El Drama es el género mejor valorado.\n",
    "6. El Terror es el género peor valorado.\n",
    "7. Cada vez se hacen menos Westerns.\n",
    "8. Martin Scorsese es el director con más películas.\n",
    "9. Steven Spielberg es el director con mayor media de duración. Le gusta cocinar a fuego lento.\n",
    "10. Quentin Tarantino es el director con mejor media de nota.\n",
    "11. Steven Spielberg es el director con mayor media de votos.\n",
    "12. Quentin Tarantino es el guionista con mejor media de nota.\n",
    "13. Leonardo DiCaprio es el protagonista con mejor media de nota.\n",
    "14. En Hollywood (Estados Unidos) se producen más películas.\n",
    "15. Existe correlación positiva entre la nota y el número de votos. Los usuarios suelen votar más las películas que les gustan."
   ]
  },
  {
   "attachments": {},
   "cell_type": "markdown",
   "metadata": {},
   "source": [
    "## OBTENCIÓN DE LOS DATOS"
   ]
  },
  {
   "attachments": {},
   "cell_type": "markdown",
   "metadata": {},
   "source": [
    "### DATASETS Y FUENTES ALTERNATIVAS DE DATOS"
   ]
  },
  {
   "attachments": {},
   "cell_type": "markdown",
   "metadata": {},
   "source": [
    "Filmaffinity"
   ]
  },
  {
   "cell_type": "code",
   "execution_count": 1,
   "metadata": {},
   "outputs": [],
   "source": [
    "url = 'https://www.filmaffinity.com/es/main.html'"
   ]
  },
  {
   "attachments": {},
   "cell_type": "markdown",
   "metadata": {},
   "source": [
    "Filtro de películas con más de 1000 votos, desde 1972 hasta la actualidad."
   ]
  },
  {
   "cell_type": "code",
   "execution_count": 2,
   "metadata": {},
   "outputs": [],
   "source": [
    "import pandas as pd"
   ]
  },
  {
   "cell_type": "code",
   "execution_count": 3,
   "metadata": {},
   "outputs": [],
   "source": [
    "df = pd.read_csv('FilmAffinity', index_col=0)"
   ]
  },
  {
   "cell_type": "code",
   "execution_count": 4,
   "metadata": {},
   "outputs": [
    {
     "data": {
      "text/html": [
       "<div>\n",
       "<style scoped>\n",
       "    .dataframe tbody tr th:only-of-type {\n",
       "        vertical-align: middle;\n",
       "    }\n",
       "\n",
       "    .dataframe tbody tr th {\n",
       "        vertical-align: top;\n",
       "    }\n",
       "\n",
       "    .dataframe thead th {\n",
       "        text-align: right;\n",
       "    }\n",
       "</style>\n",
       "<table border=\"1\" class=\"dataframe\">\n",
       "  <thead>\n",
       "    <tr style=\"text-align: right;\">\n",
       "      <th></th>\n",
       "      <th>AÑO</th>\n",
       "      <th>DURACION (min)</th>\n",
       "      <th>GENERO</th>\n",
       "      <th>DIRECCION</th>\n",
       "      <th>GUION</th>\n",
       "      <th>PROTAGONISTA</th>\n",
       "      <th>PAIS</th>\n",
       "      <th>NOTA</th>\n",
       "      <th>VOTOS</th>\n",
       "    </tr>\n",
       "    <tr>\n",
       "      <th>TITULO</th>\n",
       "      <th></th>\n",
       "      <th></th>\n",
       "      <th></th>\n",
       "      <th></th>\n",
       "      <th></th>\n",
       "      <th></th>\n",
       "      <th></th>\n",
       "      <th></th>\n",
       "      <th></th>\n",
       "    </tr>\n",
       "  </thead>\n",
       "  <tbody>\n",
       "    <tr>\n",
       "      <th>El padrino</th>\n",
       "      <td>1972</td>\n",
       "      <td>175</td>\n",
       "      <td>Drama</td>\n",
       "      <td>Francis Ford Coppola</td>\n",
       "      <td>Francis Ford Coppola</td>\n",
       "      <td>Marlon Brando</td>\n",
       "      <td>Estados Unidos</td>\n",
       "      <td>9.0</td>\n",
       "      <td>174133</td>\n",
       "    </tr>\n",
       "    <tr>\n",
       "      <th>El padrino. Parte II</th>\n",
       "      <td>1974</td>\n",
       "      <td>200</td>\n",
       "      <td>Drama</td>\n",
       "      <td>Francis Ford Coppola</td>\n",
       "      <td>Francis Ford Coppola</td>\n",
       "      <td>Al Pacino</td>\n",
       "      <td>Estados Unidos</td>\n",
       "      <td>8.9</td>\n",
       "      <td>138933</td>\n",
       "    </tr>\n",
       "    <tr>\n",
       "      <th>La lista de Schindler</th>\n",
       "      <td>1993</td>\n",
       "      <td>195</td>\n",
       "      <td>Drama</td>\n",
       "      <td>Steven Spielberg</td>\n",
       "      <td>Steven Spielberg</td>\n",
       "      <td>Liam Neeson</td>\n",
       "      <td>Estados Unidos</td>\n",
       "      <td>8.7</td>\n",
       "      <td>174440</td>\n",
       "    </tr>\n",
       "    <tr>\n",
       "      <th>Cadena perpetua</th>\n",
       "      <td>1994</td>\n",
       "      <td>142</td>\n",
       "      <td>Drama</td>\n",
       "      <td>Frank Darabont</td>\n",
       "      <td>Frank Darabont</td>\n",
       "      <td>Tim Robbins</td>\n",
       "      <td>Estados Unidos</td>\n",
       "      <td>8.6</td>\n",
       "      <td>168635</td>\n",
       "    </tr>\n",
       "    <tr>\n",
       "      <th>Pulp Fiction</th>\n",
       "      <td>1994</td>\n",
       "      <td>153</td>\n",
       "      <td>Thriller</td>\n",
       "      <td>Quentin Tarantino</td>\n",
       "      <td>Quentin Tarantino</td>\n",
       "      <td>John Travolta</td>\n",
       "      <td>Estados Unidos</td>\n",
       "      <td>8.6</td>\n",
       "      <td>202065</td>\n",
       "    </tr>\n",
       "  </tbody>\n",
       "</table>\n",
       "</div>"
      ],
      "text/plain": [
       "                        AÑO  DURACION (min)    GENERO             DIRECCION  \\\n",
       "TITULO                                                                        \n",
       "El padrino             1972             175     Drama  Francis Ford Coppola   \n",
       "El padrino. Parte II   1974             200     Drama  Francis Ford Coppola   \n",
       "La lista de Schindler  1993             195     Drama      Steven Spielberg   \n",
       "Cadena perpetua        1994             142     Drama        Frank Darabont   \n",
       "Pulp Fiction           1994             153  Thriller     Quentin Tarantino   \n",
       "\n",
       "                                      GUION   PROTAGONISTA            PAIS  \\\n",
       "TITULO                                                                       \n",
       "El padrino             Francis Ford Coppola  Marlon Brando  Estados Unidos   \n",
       "El padrino. Parte II   Francis Ford Coppola      Al Pacino  Estados Unidos   \n",
       "La lista de Schindler      Steven Spielberg    Liam Neeson  Estados Unidos   \n",
       "Cadena perpetua              Frank Darabont    Tim Robbins  Estados Unidos   \n",
       "Pulp Fiction              Quentin Tarantino  John Travolta  Estados Unidos   \n",
       "\n",
       "                       NOTA   VOTOS  \n",
       "TITULO                               \n",
       "El padrino              9.0  174133  \n",
       "El padrino. Parte II    8.9  138933  \n",
       "La lista de Schindler   8.7  174440  \n",
       "Cadena perpetua         8.6  168635  \n",
       "Pulp Fiction            8.6  202065  "
      ]
     },
     "execution_count": 4,
     "metadata": {},
     "output_type": "execute_result"
    }
   ],
   "source": [
    "df.head()"
   ]
  }
 ],
 "metadata": {
  "kernelspec": {
   "display_name": "Python 3.7.4 64-bit",
   "language": "python",
   "name": "python3"
  },
  "language_info": {
   "codemirror_mode": {
    "name": "ipython",
    "version": 3
   },
   "file_extension": ".py",
   "mimetype": "text/x-python",
   "name": "python",
   "nbconvert_exporter": "python",
   "pygments_lexer": "ipython3",
   "version": "3.7.4"
  },
  "orig_nbformat": 4,
  "vscode": {
   "interpreter": {
    "hash": "90139cb9a825bf3d63f6f6704e828dbd1ff7edbd4d0c6e906a71235d6efc74af"
   }
  }
 },
 "nbformat": 4,
 "nbformat_minor": 2
}
