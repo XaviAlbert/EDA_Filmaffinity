{
 "cells": [
  {
   "attachments": {},
   "cell_type": "markdown",
   "metadata": {},
   "source": [
    "### LIBRERIAS"
   ]
  },
  {
   "cell_type": "code",
   "execution_count": 3,
   "metadata": {},
   "outputs": [],
   "source": [
    "from selenium import webdriver\n",
    "from selenium.webdriver.common.by import By\n",
    "import pandas as pd\n",
    "import requests\n",
    "from bs4 import BeautifulSoup"
   ]
  },
  {
   "attachments": {},
   "cell_type": "markdown",
   "metadata": {},
   "source": [
    "### CHROMEDRIVER"
   ]
  },
  {
   "cell_type": "code",
   "execution_count": 262,
   "metadata": {},
   "outputs": [],
   "source": [
    "chrome_driver_path = 'chromedriver.exe'\n",
    "options  = webdriver.ChromeOptions()"
   ]
  },
  {
   "cell_type": "code",
   "execution_count": 263,
   "metadata": {},
   "outputs": [
    {
     "name": "stderr",
     "output_type": "stream",
     "text": [
      "C:\\Users\\XaviA\\AppData\\Roaming\\Python\\Python37\\site-packages\\ipykernel_launcher.py:1: DeprecationWarning: executable_path has been deprecated, please pass in a Service object\n",
      "  \"\"\"Entry point for launching an IPython kernel.\n"
     ]
    }
   ],
   "source": [
    "driver = webdriver.Chrome(executable_path = chrome_driver_path, options = options)"
   ]
  },
  {
   "cell_type": "code",
   "execution_count": 264,
   "metadata": {},
   "outputs": [],
   "source": [
    "url = \"https://www.filmaffinity.com/es/topgen.php?genres=&chv=0&movietype=movie%7Cex-tv&country=&fromyear=1972&toyear=2023&ratingcount=3&runtimemin=2&runtimemax=4\"\n",
    "driver.get(url)"
   ]
  },
  {
   "attachments": {},
   "cell_type": "markdown",
   "metadata": {},
   "source": [
    "### URLS"
   ]
  },
  {
   "cell_type": "code",
   "execution_count": 30,
   "metadata": {},
   "outputs": [],
   "source": [
    "lista_peliculas = []"
   ]
  },
  {
   "cell_type": "code",
   "execution_count": 31,
   "metadata": {},
   "outputs": [],
   "source": [
    "peliculas = driver.find_elements(By.CLASS_NAME, 'mc-title')\n",
    "\n",
    "for pelicula in peliculas[:]:\n",
    "    lista_peliculas.append(pelicula.find_element(By.TAG_NAME, 'a').get_attribute('href'))"
   ]
  },
  {
   "cell_type": "code",
   "execution_count": 32,
   "metadata": {},
   "outputs": [
    {
     "data": {
      "text/plain": [
       "5040"
      ]
     },
     "execution_count": 32,
     "metadata": {},
     "output_type": "execute_result"
    }
   ],
   "source": [
    "len(lista_peliculas)"
   ]
  },
  {
   "cell_type": "code",
   "execution_count": 9,
   "metadata": {},
   "outputs": [
    {
     "data": {
      "text/plain": [
       "['https://www.filmaffinity.com/es/film809297.html',\n",
       " 'https://www.filmaffinity.com/es/film730528.html',\n",
       " 'https://www.filmaffinity.com/es/film656153.html']"
      ]
     },
     "execution_count": 9,
     "metadata": {},
     "output_type": "execute_result"
    }
   ],
   "source": [
    "lista_peliculas"
   ]
  },
  {
   "attachments": {},
   "cell_type": "markdown",
   "metadata": {},
   "source": [
    "### TITULOS"
   ]
  },
  {
   "cell_type": "code",
   "execution_count": 33,
   "metadata": {},
   "outputs": [],
   "source": [
    "lista_titulos = []"
   ]
  },
  {
   "cell_type": "code",
   "execution_count": 10,
   "metadata": {},
   "outputs": [],
   "source": [
    "# peliculas = driver.find_elements(By.CLASS_NAME, 'mc-title')\n",
    "\n",
    "# for pelicula in peliculas[:2]:\n",
    "#     lista_titulos.append(pelicula.find_element(By.TAG_NAME, 'a').get_attribute('title'))"
   ]
  },
  {
   "cell_type": "code",
   "execution_count": 34,
   "metadata": {},
   "outputs": [],
   "source": [
    "peliculas = driver.find_elements(By.CLASS_NAME, 'mc-title')\n",
    "\n",
    "for pelicula in peliculas[:]:\n",
    "    lista_titulos.append(pelicula.find_element(By.TAG_NAME, 'a').text)"
   ]
  },
  {
   "cell_type": "code",
   "execution_count": 35,
   "metadata": {},
   "outputs": [
    {
     "data": {
      "text/plain": [
       "5040"
      ]
     },
     "execution_count": 35,
     "metadata": {},
     "output_type": "execute_result"
    }
   ],
   "source": [
    "len(lista_titulos)"
   ]
  },
  {
   "cell_type": "code",
   "execution_count": 36,
   "metadata": {},
   "outputs": [],
   "source": [
    "fa = {'TITULO': []}"
   ]
  },
  {
   "cell_type": "code",
   "execution_count": 37,
   "metadata": {},
   "outputs": [],
   "source": [
    "fa['TITULO'] = lista_titulos"
   ]
  },
  {
   "cell_type": "code",
   "execution_count": 39,
   "metadata": {},
   "outputs": [
    {
     "data": {
      "text/plain": [
       "['El padrino',\n",
       " 'El padrino. Parte II',\n",
       " 'La lista de Schindler',\n",
       " 'Cadena perpetua',\n",
       " 'Pulp Fiction',\n",
       " 'El golpe',\n",
       " 'La vida es bella',\n",
       " 'Ciudad de Dios',\n",
       " 'Uno de los nuestros',\n",
       " 'Alguien voló sobre el nido del cuco',\n",
       " 'Cinema Paradiso',\n",
       " 'American History X',\n",
       " 'Dersu Uzala (El cazador)',\n",
       " 'Érase una vez en América',\n",
       " 'Seven (Se7en)',\n",
       " 'El pianista',\n",
       " 'Apocalypse Now',\n",
       " 'Sin perdón',\n",
       " 'El silencio de los corderos',\n",
       " 'El precio del poder',\n",
       " 'Forrest Gump',\n",
       " 'Gran Torino',\n",
       " 'El señor de los anillos: El retorno del rey',\n",
       " 'Novecento (1900)',\n",
       " 'En el nombre del padre',\n",
       " 'La chaqueta metálica',\n",
       " 'El resplandor',\n",
       " 'La huella',\n",
       " 'Los santos inocentes',\n",
       " 'Reservoir Dogs',\n",
       " 'Primera plana',\n",
       " 'Blade Runner',\n",
       " 'El caballero oscuro',\n",
       " 'El club de la lucha',\n",
       " 'El secreto de sus ojos',\n",
       " 'La guerra de las galaxias. Episodio V: El imperio contraataca',\n",
       " 'Secretos de un matrimonio',\n",
       " 'El viaje de Chihiro',\n",
       " 'Taxi Driver',\n",
       " 'Toro salvaje',\n",
       " 'Manhattan',\n",
       " 'El hombre elefante',\n",
       " 'Ran',\n",
       " 'Casino',\n",
       " 'Trainspotting',\n",
       " 'Alien, el octavo pasajero',\n",
       " 'Sátántangó',\n",
       " 'La tumba de las luciérnagas',\n",
       " 'La vida de los otros',\n",
       " 'Mystic River',\n",
       " 'Annie Hall',\n",
       " 'Million Dollar Baby',\n",
       " 'Intocable',\n",
       " 'El cazador',\n",
       " 'El señor de los anillos: La comunidad del anillo',\n",
       " 'La linterna roja',\n",
       " 'Coco',\n",
       " 'La princesa Mononoke',\n",
       " 'Joker',\n",
       " 'Sospechosos habituales',\n",
       " 'Origen',\n",
       " 'El señor de los anillos: Las dos torres',\n",
       " 'Sonata de otoño',\n",
       " 'Amarcord',\n",
       " 'Braveheart',\n",
       " 'Parásitos',\n",
       " 'Barry Lyndon',\n",
       " 'Matrix',\n",
       " 'La milla verde',\n",
       " 'Una jornada particular',\n",
       " 'Toy Story 3',\n",
       " 'La guerra de las galaxias. Episodio IV: Una nueva esperanza',\n",
       " 'La mamá y la puta',\n",
       " 'Gladiator',\n",
       " 'Una mujer y tres hombres (Nos habíamos amado tanto)',\n",
       " 'Kenshin, El Guerrero Samurái: Recuerdos',\n",
       " 'WALL•E',\n",
       " 'Snatch. Cerdos y diamantes',\n",
       " 'Up',\n",
       " 'American Beauty',\n",
       " 'Fanny y Alexander',\n",
       " 'Chinatown',\n",
       " 'Big Fish',\n",
       " '¡Vivir!',\n",
       " 'Stalker',\n",
       " 'La vida de Brian',\n",
       " 'La ascensión',\n",
       " 'Interstellar',\n",
       " 'Django desencadenado',\n",
       " 'La guerra de las galaxias. Episodio VI: El retorno del Jedi',\n",
       " 'Delitos y faltas',\n",
       " 'Atrapado por su pasado',\n",
       " 'Infiltrados',\n",
       " 'El hombre que pudo reinar',\n",
       " 'El nombre de la rosa',\n",
       " 'Memento',\n",
       " 'Kagemusha, la sombra del guerrero',\n",
       " 'Underground',\n",
       " 'Oldboy',\n",
       " 'Nostalgia',\n",
       " 'Masacre. Ven y mira',\n",
       " 'Un lugar en el mundo',\n",
       " 'El odio',\n",
       " 'Paris, Texas',\n",
       " 'Persépolis',\n",
       " 'Muerte entre las flores',\n",
       " 'Nueve reinas',\n",
       " 'En busca del arca perdida',\n",
       " 'Niños del paraíso',\n",
       " 'Indiana Jones y la última cruzada',\n",
       " 'Cafarnaúm',\n",
       " 'Lock & Stock',\n",
       " 'El padrino. Parte III',\n",
       " 'Fargo',\n",
       " 'Salvar al soldado Ryan',\n",
       " 'Malditos bastardos',\n",
       " 'Amélie',\n",
       " 'Adiós, muchachos',\n",
       " 'Celebración',\n",
       " 'Una historia del Bronx (A Bronx Tale)',\n",
       " 'Whiplash',\n",
       " 'Misterioso asesinato en Manhattan',\n",
       " 'El castillo ambulante',\n",
       " 'Réquiem por un sueño',\n",
       " 'El espejo',\n",
       " 'Cabaret',\n",
       " 'Deseando amar',\n",
       " 'Una historia verdadera',\n",
       " 'Castaway on the Moon',\n",
       " 'Del revés (Inside Out)',\n",
       " 'Los intocables de Eliot Ness',\n",
       " 'Missing (Desaparecido)',\n",
       " 'Pink Floyd: El muro',\n",
       " 'Your Name.',\n",
       " 'Hannah y sus hermanas',\n",
       " 'La historia oficial',\n",
       " 'Gritos y susurros',\n",
       " 'El Sur',\n",
       " 'Tres colores: Rojo',\n",
       " 'Eduardo Manostijeras',\n",
       " 'Ju Dou: Semilla de crisantemo',\n",
       " 'Incendies',\n",
       " 'El expreso de medianoche',\n",
       " 'La caza',\n",
       " '1917',\n",
       " 'Amores perros',\n",
       " 'Nader y Simin, una separación',\n",
       " 'El submarino (Das Boot)',\n",
       " 'Hierro 3',\n",
       " 'El hijo de la novia',\n",
       " 'Slumdog Millionaire',\n",
       " 'El árbol de los zuecos',\n",
       " 'L.A. Confidential',\n",
       " 'Todos nos llamamos Alí',\n",
       " 'La noche americana',\n",
       " 'El padre',\n",
       " 'Papillon',\n",
       " 'Tesis',\n",
       " 'Celda 211',\n",
       " 'Match Point',\n",
       " 'Lluvia negra',\n",
       " 'Secretos y mentiras',\n",
       " 'Relatos salvajes',\n",
       " 'Platoon',\n",
       " 'El show de Truman',\n",
       " 'Alicia en las ciudades',\n",
       " 'El viaje a ninguna parte',\n",
       " 'Las tortugas también vuelan',\n",
       " 'Amadeus',\n",
       " 'El manantial de las colinas',\n",
       " 'Una mujer bajo la influencia',\n",
       " 'Sacrificio',\n",
       " 'As bestas',\n",
       " 'La habitación',\n",
       " 'Yi Yi',\n",
       " 'El exorcista',\n",
       " 'Kill Bill. Volumen 2',\n",
       " 'La balada de Narayama',\n",
       " 'Luna de papel',\n",
       " 'Ni uno menos',\n",
       " 'Nadie sabe',\n",
       " 'Down by Law (Bajo el peso de la ley)',\n",
       " 'Smoke',\n",
       " 'El espíritu de la colmena',\n",
       " 'Armonías de Werckmeister',\n",
       " 'Noche de estreno (Opening Night)',\n",
       " 'Antes de la lluvia',\n",
       " 'La doncella (The Handmaiden)',\n",
       " 'Desmontando a Harry',\n",
       " 'La misión',\n",
       " 'The Artist',\n",
       " 'Los chicos del coro',\n",
       " 'Nausicaä del Valle del Viento',\n",
       " 'Solas',\n",
       " 'Tres anuncios en las afueras',\n",
       " 'Prisioneros',\n",
       " 'El club de los poetas muertos',\n",
       " 'El gran Lebowski',\n",
       " 'El tiempo de los gitanos',\n",
       " 'Estación central de Brasil',\n",
       " 'Las amistades peligrosas',\n",
       " 'Spider-Man: Un nuevo universo',\n",
       " 'Hotel Rwanda',\n",
       " 'El sexto sentido',\n",
       " 'Kill Bill. Volumen 1',\n",
       " 'Paisaje en la niebla',\n",
       " 'El ocaso del samurái',\n",
       " 'Primavera, verano, otoño, invierno... y primavera',\n",
       " 'Fuga de Alcatraz',\n",
       " 'Akira',\n",
       " 'Shutter Island',\n",
       " 'Wolfwalkers',\n",
       " 'Hedwig y The Angry Inch',\n",
       " 'Lugares comunes',\n",
       " 'Amor',\n",
       " 'Bailar en la oscuridad',\n",
       " 'Hacia rutas salvajes (Into the Wild)',\n",
       " 'El profesional (Léon)',\n",
       " 'Enemigo a las puertas',\n",
       " '¡Olvídate de mí!',\n",
       " 'Las aventuras de Jeremiah Johnson',\n",
       " 'Klaus',\n",
       " 'Memories of Murder (Crónica de un asesino en serie)',\n",
       " 'Green Book',\n",
       " 'Despedidas',\n",
       " 'Mi vida sin mí',\n",
       " 'Good Bye, Lenin!',\n",
       " 'Camino a la perdición',\n",
       " 'Drácula de Bram Stoker',\n",
       " 'Cisne negro',\n",
       " 'El amor después del mediodía',\n",
       " 'Los niños lobo',\n",
       " 'Pat Garrett y Billy el Niño',\n",
       " 'El cuento de la princesa Kaguya',\n",
       " 'La canción del mar',\n",
       " 'American Gangster',\n",
       " 'El lobo de Wall Street',\n",
       " 'Pequeña Miss Sunshine',\n",
       " 'Mejor... imposible',\n",
       " 'La vida de bohemia',\n",
       " 'Evangelion 2.0 You Can (Not) Advance',\n",
       " 'Tiempo de revancha',\n",
       " 'Network, un mundo implacable',\n",
       " 'Gato negro, gato blanco',\n",
       " 'Arde Mississippi',\n",
       " 'El jovencito Frankenstein',\n",
       " 'Magnolia',\n",
       " '21 gramos',\n",
       " 'Crash (Colisión)',\n",
       " 'Los cien pasos (I cento passi)',\n",
       " 'Estado de sitio',\n",
       " 'Close',\n",
       " 'Los gritos del silencio',\n",
       " 'Mi pie izquierdo',\n",
       " 'Tropa de élite',\n",
       " 'La venganza de Manon (El manantial de las colinas II)',\n",
       " 'Las mejores intenciones',\n",
       " 'Fitzcarraldo',\n",
       " 'Maridos y mujeres',\n",
       " 'Lo que queda del día',\n",
       " 'La lengua de las mariposas',\n",
       " 'El indomable Will Hunting',\n",
       " 'La fortuna de vivir',\n",
       " 'Lilja Forever (Lilja 4-ever)',\n",
       " 'Solaris',\n",
       " 'Martín (Hache)',\n",
       " 'Buscando a Nemo',\n",
       " 'An Elephant Sitting Still',\n",
       " 'La familia',\n",
       " 'La eternidad y un día',\n",
       " 'Quemado por el sol',\n",
       " 'Los sueños de Akira Kurosawa',\n",
       " 'Hoy empieza todo',\n",
       " 'Chungking Express',\n",
       " 'El castillo en el cielo',\n",
       " 'Los puentes de Madison',\n",
       " 'Regreso al futuro',\n",
       " 'J.F.K.: Caso abierto',\n",
       " 'Vengadores: Infinity War',\n",
       " 'Dogville',\n",
       " 'Una mente maravillosa',\n",
       " 'Terminator 2: El juicio final',\n",
       " 'En el curso del tiempo',\n",
       " 'Chacal',\n",
       " 'All That Jazz (Empieza el espectáculo)',\n",
       " 'Un profeta',\n",
       " 'Balas sobre Broadway',\n",
       " 'V de Vendetta',\n",
       " 'La Patagonia rebelde',\n",
       " 'Las amargas lágrimas de Petra von Kant',\n",
       " 'El discreto encanto de la burguesía',\n",
       " 'Frenesí',\n",
       " 'Rompiendo las olas',\n",
       " 'La última noche',\n",
       " 'Amanece, que no es poco',\n",
       " 'Heat',\n",
       " 'Dallas Buyers Club',\n",
       " 'La ciudad de las estrellas (La La Land)',\n",
       " 'Her',\n",
       " 'El caballero oscuro: La leyenda renace',\n",
       " 'Los otros',\n",
       " 'E.T. el extraterrestre',\n",
       " 'Historias extraordinarias',\n",
       " 'Infiel',\n",
       " 'Sangre por sangre',\n",
       " 'Nubes pasajeras',\n",
       " 'Ojos negros',\n",
       " 'La mirada de Ulises',\n",
       " 'Waking Life',\n",
       " 'El quimérico inquilino',\n",
       " 'I... como Ícaro',\n",
       " 'Mind Game',\n",
       " 'Brutos, sucios y malos',\n",
       " '3 Idiots',\n",
       " 'Guardianes de la galaxia Vol. 3',\n",
       " 'Vidas cruzadas (Short Cuts)',\n",
       " 'Misery',\n",
       " 'Captain Fantastic',\n",
       " 'Ed Wood',\n",
       " 'Criadas y señoras',\n",
       " 'A Moment to Remember',\n",
       " 'Oasis',\n",
       " 'Hasta siempre, hijo mío',\n",
       " 'El regreso',\n",
       " 'Juego sucio (Infernal Affairs)',\n",
       " 'Noche en la Tierra',\n",
       " 'Contra la pared',\n",
       " 'Léolo',\n",
       " 'El jinete pálido',\n",
       " 'La gran belleza',\n",
       " 'En busca de la felicidad',\n",
       " 'Sin City (Ciudad del pecado)',\n",
       " 'Estrellas en la tierra',\n",
       " 'Ciudad de vida y muerte',\n",
       " 'Mommy',\n",
       " 'Happiness',\n",
       " 'Tarde de perros',\n",
       " 'Pena de muerte',\n",
       " 'Memorias de África',\n",
       " 'Atrapado en el tiempo',\n",
       " 'Philadelphia',\n",
       " '20.000 especies de abejas',\n",
       " 'Luis II de Baviera, el rey loco',\n",
       " 'Vete y vive',\n",
       " 'Hombre mirando al sudeste',\n",
       " 'Laurence Anyways',\n",
       " 'Cartas desde Iwo Jima',\n",
       " 'La princesa prometida',\n",
       " 'El extranjero loco',\n",
       " 'Bloody Sunday (Domingo sangriento)',\n",
       " 'Retrato de una mujer en llamas',\n",
       " 'Nebraska',\n",
       " 'Antes de amanecer',\n",
       " 'Indiana Jones y el templo maldito',\n",
       " 'Y la vida continúa',\n",
       " 'Cuento de verano',\n",
       " 'Los amantes del Pont-Neuf',\n",
       " 'Un asunto de familia',\n",
       " 'El verano de Kikujiro',\n",
       " 'Argentina, 1985',\n",
       " 'Soul',\n",
       " 'La vida de Adèle',\n",
       " 'Tres colores: Azul',\n",
       " 'Terciopelo azul',\n",
       " 'Tomates verdes fritos',\n",
       " 'Billy Elliot (Quiero bailar)',\n",
       " 'Bailando con lobos',\n",
       " 'Lamerica',\n",
       " 'The Quiet Girl',\n",
       " 'Papá está en viaje de negocios',\n",
       " 'El rayo verde',\n",
       " 'La cruz de hierro',\n",
       " 'Las invasiones bárbaras',\n",
       " 'Porco Rosso',\n",
       " 'Los lunes al sol',\n",
       " 'La ola',\n",
       " 'Rain Man',\n",
       " 'El truco final (El prestigio)',\n",
       " 'La culpa la tiene Fidel',\n",
       " 'Suzume',\n",
       " 'Evangelion: 3.0+1.01 Thrice Upon a Time',\n",
       " 'Padre patrón (Padre padrone)',\n",
       " 'Un corazón en invierno',\n",
       " 'Pelle el conquistador',\n",
       " 'Machuca',\n",
       " 'Un hombre sin pasado',\n",
       " 'Loving Vincent',\n",
       " 'En tierra de nadie',\n",
       " 'Funny Games',\n",
       " 'La profecía',\n",
       " 'Sleepers',\n",
       " 'Los caballeros de la mesa cuadrada y sus locos seguidores',\n",
       " 'Donnie Darko',\n",
       " '12 monos',\n",
       " 'La piel dura',\n",
       " 'Happy Together',\n",
       " 'Veredicto final',\n",
       " 'La escafandra y la mariposa',\n",
       " 'El color púrpura',\n",
       " 'El cartero (y Pablo Neruda)',\n",
       " 'Esencia de mujer',\n",
       " 'El hundimiento',\n",
       " 'Batman Begins',\n",
       " 'Te quiero para siempre',\n",
       " 'The Chaser',\n",
       " 'La huida',\n",
       " 'Te doy mis ojos',\n",
       " 'El piano',\n",
       " 'Alrededor de la medianoche',\n",
       " 'El inocente',\n",
       " 'Y la nave va',\n",
       " 'Agua',\n",
       " 'Roma',\n",
       " 'El pan de la guerra (The Breadwinner)',\n",
       " 'Cría cuervos...',\n",
       " 'Tierras de penumbra',\n",
       " 'El fuera de la ley',\n",
       " 'Bird',\n",
       " 'El bosque animado',\n",
       " 'Tropa de élite 2',\n",
       " 'Carretera perdida',\n",
       " 'Un mundo perfecto',\n",
       " 'Yo soy Sam',\n",
       " 'Gandhi',\n",
       " 'Los amantes del círculo polar',\n",
       " 'Promesas del este',\n",
       " 'Aliens: El regreso',\n",
       " 'El discurso del Rey',\n",
       " 'La bella mentirosa',\n",
       " 'Cara a cara al desnudo',\n",
       " 'Confidencias',\n",
       " 'Quo Vadis, Aida?',\n",
       " 'Cuento de otoño',\n",
       " 'La caja de música',\n",
       " '¿Qué ocurrió entre mi padre y tu madre?',\n",
       " 'Shine. El resplandor de un genio',\n",
       " 'Serpico',\n",
       " 'Ponyo en el acantilado',\n",
       " 'Barton Fink',\n",
       " 'Warrior',\n",
       " 'Clerks',\n",
       " 'Training Day (Día de entrenamiento)',\n",
       " 'El matrimonio de Maria Braun',\n",
       " 'A propósito de Elly',\n",
       " 'Sueño de invierno (Winter Sleep)',\n",
       " 'El Narco (El infierno)',\n",
       " 'Yo, Cristina F.',\n",
       " 'Hamlet',\n",
       " 'Al otro lado',\n",
       " 'El festín de Babette',\n",
       " 'Despertares',\n",
       " 'El sentido de la vida',\n",
       " 'El imperio del sol',\n",
       " 'El caso Slevin',\n",
       " 'La llegada',\n",
       " 'Ratatouille',\n",
       " 'El aficionado (Amator)',\n",
       " 'La ley de Herodes',\n",
       " 'La ceremonia',\n",
       " 'Still Walking',\n",
       " 'Yakuza',\n",
       " 'Ese oscuro objeto del deseo',\n",
       " 'Malas tierras',\n",
       " 'El cielo sobre Berlín',\n",
       " 'El cabo del miedo',\n",
       " '12 años de esclavitud',\n",
       " 'La condena',\n",
       " 'Guardianes de la noche: Tren infinito',\n",
       " 'Los juncos salvajes',\n",
       " 'John Wick 4',\n",
       " 'Brubaker',\n",
       " 'Control',\n",
       " 'Ninja Scroll',\n",
       " 'C.R.A.Z.Y.',\n",
       " 'La pianista',\n",
       " 'Vengadores: Endgame',\n",
       " 'El último mohicano',\n",
       " 'Midnight in Paris',\n",
       " 'Sin techo ni ley',\n",
       " 'Exposición de amor',\n",
       " 'Tekkonkinkreet',\n",
       " 'Todas las mañanas del mundo',\n",
       " 'Wonderland',\n",
       " 'Comer, beber, amar',\n",
       " 'Susurros del corazón',\n",
       " 'Manderlay',\n",
       " 'Europa',\n",
       " 'Hana-Bi. Flores de fuego',\n",
       " 'Haz lo que debas',\n",
       " 'Excalibur',\n",
       " 'Cinderella Man. El hombre que no se dejó tumbar',\n",
       " 'La vida de David Gale',\n",
       " 'Gattaca',\n",
       " 'El paso suspendido de la cigüeña',\n",
       " 'La promesa',\n",
       " 'Stroszek',\n",
       " 'Furtivos',\n",
       " 'El abrazo de la serpiente',\n",
       " 'La leyenda del pianista en el océano',\n",
       " 'Historias mínimas',\n",
       " 'Defensa',\n",
       " 'La muerte y la doncella',\n",
       " 'Tierra y libertad',\n",
       " 'Isla de perros',\n",
       " 'Donnie Brasco',\n",
       " 'El hombre que nunca estuvo allí',\n",
       " 'La cosa (El enigma de otro mundo)',\n",
       " 'El jardinero fiel',\n",
       " 'Perdida',\n",
       " 'Abre los ojos',\n",
       " 'Belladonna of Sadness',\n",
       " 'El violín',\n",
       " 'Últimos días de la víctima',\n",
       " 'Voces inocentes',\n",
       " 'Antonia',\n",
       " 'Cowboy Bebop, la película: Llamando a las puertas del cielo',\n",
       " 'Aftersun',\n",
       " 'En el estanque dorado',\n",
       " 'Días del cielo',\n",
       " 'Beasts of No Nation',\n",
       " 'La ley de la calle',\n",
       " 'Quiéreme si te atreves',\n",
       " 'Diamante de sangre',\n",
       " 'Atrápame si puedes',\n",
       " 'El efecto mariposa',\n",
       " 'Niños robados',\n",
       " 'Todos los niños invisibles',\n",
       " 'La ley del más fuerte',\n",
       " 'Omar',\n",
       " 'El enigma de Gaspar Hauser',\n",
       " 'Las hermanas de la Magdalena',\n",
       " 'Adiós a mi concubina',\n",
       " 'La estrategia del caracol',\n",
       " 'Boogie Nights',\n",
       " 'Hero',\n",
       " 'Spotlight',\n",
       " 'Encuentros en la tercera fase',\n",
       " 'Los odiosos ocho',\n",
       " 'El destierro',\n",
       " 'Moolaadé (Protección)',\n",
       " 'Mi cena con André',\n",
       " 'A través de los olivos',\n",
       " 'Amor bajo el espino blanco',\n",
       " 'Quiero la cabeza de Alfredo García',\n",
       " 'El lado oscuro del corazón',\n",
       " 'Paprika, detective de los sueños',\n",
       " 'La trinchera infinita',\n",
       " 'En la casa',\n",
       " 'El Reino',\n",
       " 'Cyrano de Bergerac',\n",
       " 'Diarios de motocicleta',\n",
       " 'Cómo ser John Malkovich',\n",
       " 'Déjame entrar',\n",
       " 'Los Goonies',\n",
       " 'El diario de Noa',\n",
       " 'El catador de venenos (Love and Honor)',\n",
       " 'En este rincón del mundo',\n",
       " 'Un asunto de mujeres',\n",
       " 'La espada oculta',\n",
       " 'Fat City, ciudad dorada',\n",
       " 'Kolya',\n",
       " 'La vida es un milagro',\n",
       " 'La chica del puente',\n",
       " 'Custodia compartida',\n",
       " 'Ip Man',\n",
       " 'Lion',\n",
       " 'Sangre fácil',\n",
       " 'Antes del anochecer',\n",
       " 'Call Me by Your Name',\n",
       " 'Las dos caras de la verdad',\n",
       " 'Brazil',\n",
       " 'Amor a quemarropa',\n",
       " 'Pozos de ambición',\n",
       " 'Nightcrawler',\n",
       " 'Historia de Hachiko',\n",
       " 'Lluvia',\n",
       " 'El dulce porvenir',\n",
       " 'Carandiru',\n",
       " 'El crack',\n",
       " 'Pride (Orgullo)',\n",
       " 'La vaquilla',\n",
       " 'La conversación',\n",
       " 'Zatoichi',\n",
       " 'Cómo entrenar a tu dragón',\n",
       " 'Boyhood (Momentos de una vida)',\n",
       " 'Bohemian Rhapsody',\n",
       " 'Leaving Las Vegas',\n",
       " 'El renacido',\n",
       " 'El Gran Hotel Budapest',\n",
       " 'El laberinto del fauno',\n",
       " 'Sol de otoño',\n",
       " 'La cumbre de los dioses',\n",
       " 'Poesía',\n",
       " 'El fantasma de la libertad',\n",
       " 'Atlantic City',\n",
       " 'La vida soñada de los ángeles',\n",
       " 'Mystery Train',\n",
       " 'La doble vida de Verónica',\n",
       " \"Buffalo '66\",\n",
       " 'En busca del fuego',\n",
       " 'Huracán Carter',\n",
       " 'El irlandés',\n",
       " 'Los miserables',\n",
       " 'Delicatessen',\n",
       " 'El intercambio',\n",
       " 'Babel',\n",
       " 'La ciudad está tranquila',\n",
       " 'En 80 días',\n",
       " 'Reconstruction',\n",
       " 'El amante del amor',\n",
       " 'Karakter',\n",
       " 'Garage Olimpo',\n",
       " 'La noche de los lápices',\n",
       " 'Joint Security Area (JSA)',\n",
       " 'Mi nombre es Joe',\n",
       " 'Corpus Christi',\n",
       " 'De tal padre, tal hijo',\n",
       " 'Mother',\n",
       " 'El amigo americano',\n",
       " 'Gente corriente',\n",
       " 'Los duelistas',\n",
       " 'Arrebato',\n",
       " 'Todos los hombres del presidente',\n",
       " 'Los edukadores',\n",
       " 'Al final de la escalera',\n",
       " 'Dune',\n",
       " 'Kramer contra Kramer',\n",
       " 'Mar adentro',\n",
       " 'El curioso caso de Benjamin Button',\n",
       " 'La ducha (Shower)',\n",
       " 'El tren de la vida',\n",
       " 'Bienvenido, Mr. Chance',\n",
       " 'Dolls',\n",
       " 'Hunger',\n",
       " 'La ballena (The Whale)',\n",
       " 'En un mundo mejor',\n",
       " 'Cometas en el cielo',\n",
       " 'La escopeta nacional',\n",
       " 'Historia de un matrimonio',\n",
       " 'Thelma & Louise',\n",
       " 'The Reader (El lector)',\n",
       " 'The Imitation Game (Descifrando Enigma)',\n",
       " 'El caso Bourne',\n",
       " 'Lady Snowblood',\n",
       " 'Perfume de mujer',\n",
       " 'El otro lado de la vida',\n",
       " 'Berserk. La Edad de Oro III: El advenimiento',\n",
       " '¡Qué ruina de función!',\n",
       " 'Maixabel',\n",
       " '4 meses, 3 semanas, 2 días',\n",
       " 'Dentro del laberinto',\n",
       " 'Las horas',\n",
       " 'La cinta blanca',\n",
       " 'Las vidas posibles de Mr. Nobody',\n",
       " 'Puñales por la espalda',\n",
       " 'Regreso al futuro II',\n",
       " 'A Taxi Driver: Los héroes de Gwangju',\n",
       " 'Conducta',\n",
       " 'Sostiene Pereira',\n",
       " 'Cerezos en flor',\n",
       " 'Ghost in the Shell 2: Innocence',\n",
       " 'Los Fabelman',\n",
       " 'Tiempo de valientes',\n",
       " 'Un puente lejano',\n",
       " 'Sing Street',\n",
       " 'Salvador (Puig Antich)',\n",
       " 'Apocalypto',\n",
       " 'Entrevista con el vampiro',\n",
       " 'Saw',\n",
       " 'Jungla de cristal',\n",
       " 'El camino',\n",
       " 'Pura formalidad',\n",
       " 'Lazos de guerra',\n",
       " 'Frantz',\n",
       " 'Trece vidas',\n",
       " '¿Quién puede matar a un niño?',\n",
       " \"Boys Don't Cry\",\n",
       " 'El viento se levanta',\n",
       " 'Sympathy for Lady Vengeance',\n",
       " 'Sympathy for Mr. Vengeance',\n",
       " 'Kubo y las dos cuerdas mágicas',\n",
       " 'La voz dormida',\n",
       " 'Los falsificadores',\n",
       " 'El último emperador',\n",
       " 'La isla mínima',\n",
       " 'Náufrago',\n",
       " \"Ocean's Eleven: Hagan juego\",\n",
       " '300',\n",
       " 'Avatar',\n",
       " 'The Taste of Tea (El sabor del té)',\n",
       " 'Jeanne Dielman, 23, quai du Commerce, 1080 Bruxelles',\n",
       " 'El emperador del norte',\n",
       " 'El nido',\n",
       " 'Roma',\n",
       " 'Leviatán',\n",
       " 'Las vidas de Grace (Short Term 12)',\n",
       " 'Mustang',\n",
       " 'Tres colores: Blanco',\n",
       " 'Stalingrado',\n",
       " 'Hasta el último hombre',\n",
       " 'Jackie Brown',\n",
       " 'Drive',\n",
       " 'Boy A',\n",
       " 'Las noches de la luna llena',\n",
       " 'Bailo por dentro',\n",
       " 'La ansiedad de Veronika Voss',\n",
       " 'La mujer de al lado',\n",
       " 'Memories',\n",
       " 'Recuerdos del ayer',\n",
       " 'Lloviendo piedras',\n",
       " 'Los miserables',\n",
       " 'Alabama Monroe',\n",
       " 'The Visitor',\n",
       " 'Encontré al diablo',\n",
       " 'Jo, ¡qué noche!',\n",
       " 'El buen patrón',\n",
       " 'The Gentlemen: Los señores de la mafia',\n",
       " 'El experimento',\n",
       " 'La maldición del escorpión de jade',\n",
       " 'Rush',\n",
       " 'The Fighter',\n",
       " 'Descubriendo Nunca Jamás',\n",
       " 'The Game',\n",
       " 'Tres estaciones',\n",
       " 'After Life',\n",
       " 'Profundo carmesí',\n",
       " 'El prado',\n",
       " 'Cenizas del paraíso',\n",
       " 'El samurái sin nombre (Sword of the Stranger)',\n",
       " 'A Silent Voice',\n",
       " 'Los Commitments',\n",
       " 'Lazzaro feliz',\n",
       " 'Felices dieciséis (Sweet Sixteen)',\n",
       " 'La decisión de Sophie',\n",
       " 'Aguirre, la cólera de Dios',\n",
       " 'La peor persona del mundo',\n",
       " 'Yo, Daniel Blake',\n",
       " 'Sin novedad en el frente',\n",
       " 'Fresa y chocolate',\n",
       " 'Comanchería',\n",
       " 'This Is England',\n",
       " 'Jojo Rabbit',\n",
       " 'El dilema',\n",
       " 'Moonrise Kingdom',\n",
       " 'Camino',\n",
       " 'El luchador',\n",
       " 'El ultimátum de Bourne',\n",
       " 'Piratas del Caribe: La maldición de la Perla Negra',\n",
       " 'El hombre de Londres',\n",
       " 'La mujer del aviador',\n",
       " 'Welcome',\n",
       " 'Lone Star',\n",
       " 'Weekend',\n",
       " 'Pauline en la playa',\n",
       " 'El caballo de Turín',\n",
       " 'Agenda oculta',\n",
       " 'Evangelion: 1.0 You Are (Not) Alone',\n",
       " 'El vídeo de Benny',\n",
       " 'Dioses y monstruos',\n",
       " 'Deseo, peligro',\n",
       " 'Arrietty y el mundo de los diminutos',\n",
       " 'El primer día del resto de tu vida',\n",
       " 'Familia',\n",
       " 'Poderosa Afrodita',\n",
       " 'Barrio',\n",
       " 'El sargento de hierro',\n",
       " 'Granujas a todo ritmo',\n",
       " 'Argo',\n",
       " 'No es país para viejos',\n",
       " 'Competencia desleal',\n",
       " 'A Sun',\n",
       " 'La vida invisible de Eurídice Gusmão',\n",
       " 'El príncipe de la ciudad',\n",
       " 'Nelly y el Sr. Arnaud',\n",
       " 'El amigo de mi amiga',\n",
       " 'Cuento de invierno',\n",
       " 'El insulto',\n",
       " 'Oscura inocencia',\n",
       " 'El gato con botas: El último deseo',\n",
       " 'Las flores de la guerra',\n",
       " 'También la lluvia',\n",
       " 'Top Secret!',\n",
       " 'Adaptation. El ladrón de orquídeas',\n",
       " 'RocknRolla',\n",
       " 'El señor de la guerra',\n",
       " 'Una historia de violencia',\n",
       " 'Traffic',\n",
       " 'El vuelo de los dragones',\n",
       " 'A nuestros amores',\n",
       " 'Lacombe Lucien',\n",
       " 'Mi vida como un perro',\n",
       " 'Tres mujeres',\n",
       " 'Crónica de una fuga',\n",
       " 'La jaula de oro',\n",
       " 'Juntos',\n",
       " 'El séptimo continente',\n",
       " 'Elsa & Fred',\n",
       " 'Interiores',\n",
       " 'Land of Mine (Bajo la arena)',\n",
       " 'Juego de lágrimas',\n",
       " 'Hair',\n",
       " 'El oso',\n",
       " 'Un cadáver a los postres',\n",
       " \"Le Mans '66\",\n",
       " '¿A quién ama Gilbert Grape?',\n",
       " 'Plan oculto',\n",
       " 'Hable con ella',\n",
       " 'Munich',\n",
       " 'La caza del Octubre rojo',\n",
       " 'Mad Max: Furia en la carretera',\n",
       " 'El día de la bestia',\n",
       " 'Mulholland Drive',\n",
       " 'El ilusionista',\n",
       " 'Lost in Translation',\n",
       " 'Milou en mayo',\n",
       " 'Qiu Ju, una mujer china',\n",
       " 'Habitación para cuatro',\n",
       " 'Better Days',\n",
       " 'La verdad de Soraya M.',\n",
       " 'Trust (Confía en mí)',\n",
       " 'La muerte del Sr. Lazarescu',\n",
       " 'El viento',\n",
       " 'Evil (Ondskan)',\n",
       " 'Europa, Europa',\n",
       " 'El banquete de boda',\n",
       " 'Hace mucho que te quiero',\n",
       " 'Mantícora',\n",
       " 'Redención (Tyrannosaur)',\n",
       " '¿Víctor o Victoria?',\n",
       " 'Las bicicletas son para el verano',\n",
       " 'La invasión de los ultracuerpos',\n",
       " 'Otra ronda',\n",
       " 'Magical Girl',\n",
       " 'El último rey de Escocia',\n",
       " 'Manchester frente al mar',\n",
       " 'Zootrópolis',\n",
       " 'Animales nocturnos',\n",
       " 'Las ventajas de ser un marginado',\n",
       " 'La vida de Pi',\n",
       " 'Hijos de los hombres',\n",
       " 'El azar',\n",
       " 'Corn Island',\n",
       " 'Todo o nada',\n",
       " 'Nosferatu, vampiro de la noche',\n",
       " 'Babylon',\n",
       " 'Inseparables',\n",
       " 'Cinco lobitos',\n",
       " 'La mejor oferta',\n",
       " 'La favorita',\n",
       " 'Que Dios nos perdone',\n",
       " 'Alta fidelidad',\n",
       " 'La delgada línea roja',\n",
       " 'Toto el héroe',\n",
       " 'System Crasher',\n",
       " 'Cuerno de cabra',\n",
       " 'Tokyo Sonata',\n",
       " 'Los caballos de Dios',\n",
       " 'La venganza de Ulzana',\n",
       " 'El viento nos llevará',\n",
       " 'Fresh',\n",
       " 'El arca rusa',\n",
       " 'Vivir rodando',\n",
       " 'El señor Ibrahim y las flores del Corán',\n",
       " 'No',\n",
       " 'Amén',\n",
       " 'Marathon Man',\n",
       " 'El tambor de hojalata',\n",
       " 'Nicky, la aprendiz de bruja',\n",
       " 'Lunas de hiel',\n",
       " 'Yo, él y Raquel',\n",
       " 'Fuego en el cuerpo',\n",
       " 'Ray',\n",
       " 'El fuego de la venganza',\n",
       " 'Orgullo y prejuicio',\n",
       " 'Ex Machina',\n",
       " 'El mito de Bourne',\n",
       " 'El paciente inglés',\n",
       " 'Todo sobre mi madre',\n",
       " 'Terminator',\n",
       " 'Softie',\n",
       " 'Marius y Jeannette (Un amor en Marsella)',\n",
       " 'Los amantes habituales',\n",
       " 'Camino de la cruz',\n",
       " 'Guerreros de antaño',\n",
       " 'Vania en la calle 42',\n",
       " 'Tess',\n",
       " 'Después de la boda',\n",
       " 'Sorry We Missed You',\n",
       " 'Girl',\n",
       " 'One Cut of The Dead',\n",
       " 'Glengarry Glen Ross (Éxito a cualquier precio)',\n",
       " 'El viajante',\n",
       " 'El triángulo de la tristeza',\n",
       " '¿Qué he hecho yo para merecer esto!',\n",
       " 'The Florida Project',\n",
       " 'Siempre a tu lado (Hachiko)',\n",
       " 'Los mundos de Coraline',\n",
       " 'Valor de ley',\n",
       " 'Star Wars. Episodio III: La venganza de los sith',\n",
       " 'Tiburón',\n",
       " 'Las manzanas de Adam',\n",
       " 'Nashville',\n",
       " 'El diablo probablemente',\n",
       " 'El acusado',\n",
       " 'Contracorriente',\n",
       " 'Tabú',\n",
       " 'La vendedora de rosas',\n",
       " 'El último metro',\n",
       " 'Oslo, 31 de agosto',\n",
       " 'El ojo de la aguja',\n",
       " 'Tasio',\n",
       " 'El Principito',\n",
       " 'La bicicleta verde',\n",
       " 'El crimen de Cuenca',\n",
       " 'El erizo',\n",
       " '¿Qué me pasa, doctor?',\n",
       " 'Los Mitchell contra las máquinas',\n",
       " 'La habitación del hijo',\n",
       " 'Beautiful Girls',\n",
       " 'Acordes y desacuerdos',\n",
       " 'Noviembre',\n",
       " 'El maquinista',\n",
       " 'Siete almas',\n",
       " 'Rocky',\n",
       " 'Grease',\n",
       " 'Hombres armados',\n",
       " 'Un minuto de gloria (Glory)',\n",
       " 'No Mercy',\n",
       " 'Great Freedom (Gran libertad)',\n",
       " 'A primera vista',\n",
       " 'El huevo de la serpiente',\n",
       " 'Una segunda madre',\n",
       " 'El acontecimiento',\n",
       " 'Pasaje a la India',\n",
       " 'Submarino',\n",
       " 'Aflicción',\n",
       " 'Gallipoli',\n",
       " 'Un asunto real',\n",
       " 'Exótica',\n",
       " 'En la ciudad sin límites',\n",
       " 'La chica que saltaba a través del tiempo',\n",
       " 'El ciudadano ilustre',\n",
       " 'Fue la mano de Dios',\n",
       " 'Ghost Dog, el camino del samurái',\n",
       " 'Richard Jewell',\n",
       " 'Tenemos que hablar de Kevin',\n",
       " 'Wonder',\n",
       " 'Sentido y sensibilidad',\n",
       " 'Moon',\n",
       " 'Volver',\n",
       " 'Madadayo',\n",
       " 'Danton',\n",
       " 'El hijo',\n",
       " 'Ladybird, Ladybird',\n",
       " 'Un héroe',\n",
       " 'El recuerdo de Marnie',\n",
       " 'El niño',\n",
       " 'El secreto de Vera Drake',\n",
       " 'La colmena',\n",
       " 'Transamérica',\n",
       " 'The Boxer',\n",
       " 'El club',\n",
       " 'Pájaros de papel',\n",
       " '24 Hour Party People',\n",
       " 'La vida en rosa',\n",
       " '2046',\n",
       " 'Carros de fuego',\n",
       " 'Tootsie',\n",
       " 'Parque Jurásico (Jurassic Park)',\n",
       " 'Juntos (Together)',\n",
       " 'La vida y nada más',\n",
       " 'El peral salvaje',\n",
       " 'Fuego',\n",
       " 'Mephisto',\n",
       " 'Conociendo a Matsuko',\n",
       " 'Rapsodia en agosto',\n",
       " 'El baño del Papa',\n",
       " 'Solo nos queda bailar',\n",
       " 'Fallen Angels',\n",
       " 'El niño y la bestia',\n",
       " 'En América',\n",
       " 'El sabor de las cerezas',\n",
       " 'Infierno de cobardes',\n",
       " 'Sound of Metal',\n",
       " 'El juicio de los 7 de Chicago',\n",
       " 'El corazón del ángel',\n",
       " 'El viento que agita la cebada',\n",
       " 'Top Gun: Maverick',\n",
       " 'Toy Story 4',\n",
       " 'Soñadores',\n",
       " 'Harry Potter y las reliquias de la muerte - Parte 2',\n",
       " 'Cube',\n",
       " 'Jujutsu Kaisen 0: La película',\n",
       " 'Bad Boy Bubby',\n",
       " 'Shelter',\n",
       " 'Samsara',\n",
       " 'Hermanos (Brødre)',\n",
       " 'Maurice',\n",
       " 'Un oso rojo',\n",
       " 'La tapadera',\n",
       " ...]"
      ]
     },
     "execution_count": 39,
     "metadata": {},
     "output_type": "execute_result"
    }
   ],
   "source": [
    "fa['TITULO']"
   ]
  },
  {
   "attachments": {},
   "cell_type": "markdown",
   "metadata": {},
   "source": [
    "### AÑOS"
   ]
  },
  {
   "cell_type": "code",
   "execution_count": 40,
   "metadata": {},
   "outputs": [],
   "source": [
    "lista_años = []"
   ]
  },
  {
   "cell_type": "code",
   "execution_count": 41,
   "metadata": {},
   "outputs": [],
   "source": [
    "peliculas = driver.find_elements(By.CLASS_NAME, 'mc-info-container')\n",
    "\n",
    "for pelicula in peliculas[:3]:\n",
    "    lista_años.append(int((pelicula.find_element(By.TAG_NAME, 'div').text)[-5:-1]))"
   ]
  },
  {
   "cell_type": "code",
   "execution_count": 42,
   "metadata": {},
   "outputs": [
    {
     "data": {
      "text/plain": [
       "5040"
      ]
     },
     "execution_count": 42,
     "metadata": {},
     "output_type": "execute_result"
    }
   ],
   "source": [
    "len(lista_años)"
   ]
  },
  {
   "cell_type": "code",
   "execution_count": 43,
   "metadata": {},
   "outputs": [],
   "source": [
    "fa['AÑOS'] = lista_años"
   ]
  },
  {
   "attachments": {},
   "cell_type": "markdown",
   "metadata": {},
   "source": [
    "### DURACIONES"
   ]
  },
  {
   "cell_type": "code",
   "execution_count": 86,
   "metadata": {},
   "outputs": [],
   "source": [
    "lista_duraciones = []"
   ]
  },
  {
   "cell_type": "code",
   "execution_count": 84,
   "metadata": {},
   "outputs": [
    {
     "name": "stdout",
     "output_type": "stream",
     "text": [
      "<Response [200]>\n"
     ]
    }
   ],
   "source": [
    "for pelicula in lista_peliculas[:360]:\n",
    "    response = requests.get(pelicula)\n",
    "    soup = BeautifulSoup(response.text, 'html.parser')\n",
    "    print(response)\n",
    "    duracion = soup.find('dd', {'itemprop':'duration'}).text.strip(' min.')\n",
    "    lista_duraciones.append(int(duracion))"
   ]
  },
  {
   "cell_type": "code",
   "execution_count": 178,
   "metadata": {},
   "outputs": [],
   "source": [
    "for pelicula in lista_peliculas[:3]:\n",
    "    try:\n",
    "        response = requests.get(pelicula)\n",
    "        soup = BeautifulSoup(response.text, 'html.parser')\n",
    "    \n",
    "        duracion = soup.find('dd', {'itemprop':'duration'}).text.strip(' min.')\n",
    "        lista_duraciones.append(int(duracion))\n",
    "    except Exception as e:\n",
    "        lista_duraciones.append(float('NaN'))"
   ]
  },
  {
   "cell_type": "code",
   "execution_count": 85,
   "metadata": {},
   "outputs": [
    {
     "data": {
      "text/plain": [
       "[100]"
      ]
     },
     "execution_count": 85,
     "metadata": {},
     "output_type": "execute_result"
    }
   ],
   "source": [
    "lista_duraciones"
   ]
  },
  {
   "cell_type": "code",
   "execution_count": 82,
   "metadata": {},
   "outputs": [
    {
     "data": {
      "text/plain": [
       "361"
      ]
     },
     "execution_count": 82,
     "metadata": {},
     "output_type": "execute_result"
    }
   ],
   "source": [
    "len(lista_duraciones)"
   ]
  },
  {
   "attachments": {},
   "cell_type": "markdown",
   "metadata": {},
   "source": [
    "### GENEROS"
   ]
  },
  {
   "cell_type": "code",
   "execution_count": 106,
   "metadata": {},
   "outputs": [],
   "source": [
    "lista_generos = []"
   ]
  },
  {
   "cell_type": "code",
   "execution_count": 109,
   "metadata": {},
   "outputs": [],
   "source": [
    "for pelicula in lista_peliculas[:3]:\n",
    "    \n",
    "    response = requests.get(pelicula)\n",
    "    soup = BeautifulSoup(response.text, 'html.parser')\n",
    "    \n",
    "    genero = soup.find('span', {'itemprop':'genre'}).text\n",
    "    lista_generos.append(genero)"
   ]
  },
  {
   "cell_type": "code",
   "execution_count": 110,
   "metadata": {},
   "outputs": [
    {
     "data": {
      "text/plain": [
       "['Drama', 'Drama']"
      ]
     },
     "execution_count": 110,
     "metadata": {},
     "output_type": "execute_result"
    }
   ],
   "source": [
    "lista_generos"
   ]
  },
  {
   "attachments": {},
   "cell_type": "markdown",
   "metadata": {},
   "source": [
    "### DIRECTORES"
   ]
  },
  {
   "cell_type": "code",
   "execution_count": 158,
   "metadata": {},
   "outputs": [],
   "source": [
    "lista_directores = []"
   ]
  },
  {
   "cell_type": "code",
   "execution_count": 160,
   "metadata": {},
   "outputs": [],
   "source": [
    "peliculas = driver.find_elements(By.CLASS_NAME, 'mc-director')\n",
    "\n",
    "for pelicula in peliculas[:]:\n",
    "    lista_directores.append(pelicula.find_element(By.TAG_NAME, 'a').text)"
   ]
  },
  {
   "cell_type": "code",
   "execution_count": 161,
   "metadata": {},
   "outputs": [
    {
     "data": {
      "text/plain": [
       "5040"
      ]
     },
     "execution_count": 161,
     "metadata": {},
     "output_type": "execute_result"
    }
   ],
   "source": [
    "len(lista_directores)"
   ]
  },
  {
   "attachments": {},
   "cell_type": "markdown",
   "metadata": {},
   "source": [
    "### GUIONISTAS"
   ]
  },
  {
   "cell_type": "code",
   "execution_count": 111,
   "metadata": {},
   "outputs": [],
   "source": [
    "lista_guionistas = []"
   ]
  },
  {
   "cell_type": "code",
   "execution_count": 112,
   "metadata": {},
   "outputs": [],
   "source": [
    "for pelicula in lista_peliculas[:3]:\n",
    "    \n",
    "    response = requests.get(pelicula)\n",
    "    soup = BeautifulSoup(response.text, 'html.parser')\n",
    "    \n",
    "    guionista = soup.find('span', {'class':'nb'}).text\n",
    "    lista_guionistas.append(guionista)"
   ]
  },
  {
   "cell_type": "code",
   "execution_count": 113,
   "metadata": {},
   "outputs": [
    {
     "data": {
      "text/plain": [
       "['Francis Ford Coppola', 'Francis Ford Coppola']"
      ]
     },
     "execution_count": 113,
     "metadata": {},
     "output_type": "execute_result"
    }
   ],
   "source": [
    "lista_guionistas"
   ]
  },
  {
   "attachments": {},
   "cell_type": "markdown",
   "metadata": {},
   "source": [
    "### ACTORES"
   ]
  },
  {
   "cell_type": "code",
   "execution_count": 324,
   "metadata": {},
   "outputs": [],
   "source": [
    "lista_actores = []"
   ]
  },
  {
   "cell_type": "code",
   "execution_count": 325,
   "metadata": {},
   "outputs": [],
   "source": [
    "actores = driver.find_elements(By.CLASS_NAME, 'mc-cast')\n",
    "\n",
    "for actor in actores[:]:\n",
    "    # En algunas películas de animación no cuentan a los actores de voz en el reparto.\n",
    "    try:\n",
    "        lista_actores.append(actor.find_element(By.TAG_NAME, 'a').get_attribute('title'))\n",
    "    except Exception as e:\n",
    "        lista_actores.append(' ')"
   ]
  },
  {
   "cell_type": "code",
   "execution_count": 326,
   "metadata": {},
   "outputs": [
    {
     "data": {
      "text/plain": [
       "5040"
      ]
     },
     "execution_count": 326,
     "metadata": {},
     "output_type": "execute_result"
    }
   ],
   "source": [
    "len(lista_actores)"
   ]
  },
  {
   "cell_type": "code",
   "execution_count": 292,
   "metadata": {},
   "outputs": [
    {
     "data": {
      "text/plain": [
       "['Anna Paquin',\n",
       " 'Russell Crowe',\n",
       " 'Taylor Kitsch',\n",
       " 'Val Kilmer',\n",
       " 'Steve Guttenberg',\n",
       " 'Brad Pitt',\n",
       " 'Jason Bateman',\n",
       " 'Milla Jovovich',\n",
       " 'Nicolas Cage',\n",
       " 'Takeru Satō',\n",
       " 'Cynthia Erivo',\n",
       " 'Martina García',\n",
       " 'Dennis Quaid',\n",
       " 'Viggo Mortensen',\n",
       " 'Hadley Robinson',\n",
       " 'Gerard Butler',\n",
       " 'Tim Roth',\n",
       " 'Tobey Maguire',\n",
       " 'Johnny Depp',\n",
       " 'Peter Mullan']"
      ]
     },
     "execution_count": 292,
     "metadata": {},
     "output_type": "execute_result"
    }
   ],
   "source": [
    "lista_actores[5020:]"
   ]
  },
  {
   "cell_type": "code",
   "execution_count": 327,
   "metadata": {},
   "outputs": [],
   "source": [
    "fa['PROTAGONISTA'] = lista_actores"
   ]
  },
  {
   "attachments": {},
   "cell_type": "markdown",
   "metadata": {},
   "source": [
    "### PAISES"
   ]
  },
  {
   "cell_type": "code",
   "execution_count": 303,
   "metadata": {},
   "outputs": [],
   "source": [
    "lista_paises = []"
   ]
  },
  {
   "cell_type": "code",
   "execution_count": 305,
   "metadata": {},
   "outputs": [],
   "source": [
    "paises = driver.find_elements(By.CLASS_NAME, 'mc-title')\n",
    "\n",
    "for pais in paises[:]:\n",
    "    try:\n",
    "        lista_paises.append(pais.find_element(By.TAG_NAME, 'img').get_attribute('alt'))\n",
    "    except Exception as e:\n",
    "        lista_paises.append(' ')"
   ]
  },
  {
   "cell_type": "code",
   "execution_count": 306,
   "metadata": {},
   "outputs": [
    {
     "data": {
      "text/plain": [
       "5040"
      ]
     },
     "execution_count": 306,
     "metadata": {},
     "output_type": "execute_result"
    }
   ],
   "source": [
    "len(lista_paises)"
   ]
  },
  {
   "cell_type": "code",
   "execution_count": 307,
   "metadata": {},
   "outputs": [
    {
     "data": {
      "text/plain": [
       "['España',\n",
       " 'Estados Unidos',\n",
       " 'Estados Unidos',\n",
       " 'Estados Unidos',\n",
       " 'Estados Unidos',\n",
       " 'Estados Unidos',\n",
       " 'Estados Unidos',\n",
       " 'Reino Unido',\n",
       " 'Estados Unidos',\n",
       " 'Japón',\n",
       " 'Estados Unidos',\n",
       " 'España',\n",
       " 'Estados Unidos',\n",
       " 'Argentina',\n",
       " 'Estados Unidos',\n",
       " 'Estados Unidos',\n",
       " 'Estados Unidos',\n",
       " 'Estados Unidos',\n",
       " 'Estados Unidos',\n",
       " 'Reino Unido']"
      ]
     },
     "execution_count": 307,
     "metadata": {},
     "output_type": "execute_result"
    }
   ],
   "source": [
    "lista_paises[5020:]"
   ]
  },
  {
   "cell_type": "code",
   "execution_count": 308,
   "metadata": {},
   "outputs": [],
   "source": [
    "fa['PAIS'] = lista_paises"
   ]
  },
  {
   "attachments": {},
   "cell_type": "markdown",
   "metadata": {},
   "source": [
    "### NOTAS"
   ]
  },
  {
   "cell_type": "code",
   "execution_count": 170,
   "metadata": {},
   "outputs": [],
   "source": [
    "lista_notas = []"
   ]
  },
  {
   "cell_type": "code",
   "execution_count": 172,
   "metadata": {},
   "outputs": [],
   "source": [
    "peliculas = driver.find_elements(By.CLASS_NAME, 'data')\n",
    "\n",
    "for pelicula in peliculas[:]:\n",
    "    lista_notas.append(float((pelicula.find_element(By.TAG_NAME, 'div').text).replace(',','.')))"
   ]
  },
  {
   "cell_type": "code",
   "execution_count": 173,
   "metadata": {},
   "outputs": [
    {
     "data": {
      "text/plain": [
       "5040"
      ]
     },
     "execution_count": 173,
     "metadata": {},
     "output_type": "execute_result"
    }
   ],
   "source": [
    "len(lista_notas)"
   ]
  },
  {
   "attachments": {},
   "cell_type": "markdown",
   "metadata": {},
   "source": [
    "### VOTOS"
   ]
  },
  {
   "cell_type": "code",
   "execution_count": 123,
   "metadata": {},
   "outputs": [],
   "source": [
    "lista_votos = []"
   ]
  },
  {
   "cell_type": "code",
   "execution_count": 124,
   "metadata": {},
   "outputs": [],
   "source": [
    "for pelicula in lista_peliculas[:3]:\n",
    "    \n",
    "    response = requests.get(pelicula)\n",
    "    soup = BeautifulSoup(response.text, 'html.parser')\n",
    "    \n",
    "    recuento = soup.find('span', {'itemprop':'ratingCount'})\n",
    "    voto = recuento['content']\n",
    "    lista_votos.append(int(voto))"
   ]
  },
  {
   "cell_type": "code",
   "execution_count": 125,
   "metadata": {},
   "outputs": [
    {
     "data": {
      "text/plain": [
       "[174133, 138932]"
      ]
     },
     "execution_count": 125,
     "metadata": {},
     "output_type": "execute_result"
    }
   ],
   "source": [
    "lista_votos"
   ]
  },
  {
   "attachments": {},
   "cell_type": "markdown",
   "metadata": {},
   "source": [
    "### DICCIONARIO"
   ]
  },
  {
   "cell_type": "code",
   "execution_count": 131,
   "metadata": {},
   "outputs": [],
   "source": [
    "filmaffinity = {'TITULO': [],\n",
    "                'AÑO': [],\n",
    "                'DURACION (min)': [],\n",
    "                'GENERO': [],\n",
    "                'DIRECCION': [],\n",
    "                'GUION': [],\n",
    "                'PROTAGONISTA': [],\n",
    "                'PAIS': [],\n",
    "                'NOTA': [],\n",
    "                'VOTOS': []}"
   ]
  },
  {
   "cell_type": "code",
   "execution_count": 132,
   "metadata": {},
   "outputs": [],
   "source": [
    "peliculas = driver.find_elements(By.CLASS_NAME, 'mc-title')\n",
    "\n",
    "for pelicula in peliculas[:5]:\n",
    "    lista_peliculas.append(pelicula.find_element(By.TAG_NAME, 'a').get_attribute('href'))"
   ]
  },
  {
   "cell_type": "code",
   "execution_count": 133,
   "metadata": {},
   "outputs": [
    {
     "data": {
      "text/plain": [
       "['https://www.filmaffinity.com/es/film809297.html',\n",
       " 'https://www.filmaffinity.com/es/film730528.html',\n",
       " 'https://www.filmaffinity.com/es/film809297.html',\n",
       " 'https://www.filmaffinity.com/es/film730528.html',\n",
       " 'https://www.filmaffinity.com/es/film656153.html',\n",
       " 'https://www.filmaffinity.com/es/film161026.html',\n",
       " 'https://www.filmaffinity.com/es/film160882.html']"
      ]
     },
     "execution_count": 133,
     "metadata": {},
     "output_type": "execute_result"
    }
   ],
   "source": [
    "lista_peliculas"
   ]
  },
  {
   "attachments": {},
   "cell_type": "markdown",
   "metadata": {},
   "source": [
    "### Blucle BS"
   ]
  },
  {
   "cell_type": "code",
   "execution_count": 149,
   "metadata": {},
   "outputs": [],
   "source": [
    "lista_duraciones = []\n",
    "lista_generos = []\n",
    "lista_directores = []\n",
    "lista_guionistas = []\n",
    "lista_actores = []\n",
    "lista_paises = []\n",
    "lista_notas = []\n",
    "lista_votos = []"
   ]
  },
  {
   "cell_type": "code",
   "execution_count": 236,
   "metadata": {},
   "outputs": [
    {
     "name": "stdout",
     "output_type": "stream",
     "text": [
      "<Response [200]>\n",
      "<Response [200]>\n",
      "<Response [200]>\n",
      "<Response [200]>\n",
      "<Response [200]>\n",
      "<Response [200]>\n",
      "<Response [200]>\n",
      "<Response [200]>\n",
      "<Response [200]>\n",
      "<Response [200]>\n",
      "<Response [200]>\n",
      "<Response [200]>\n",
      "<Response [200]>\n",
      "<Response [200]>\n",
      "<Response [200]>\n",
      "<Response [200]>\n",
      "<Response [200]>\n",
      "<Response [200]>\n",
      "<Response [200]>\n",
      "<Response [200]>\n",
      "<Response [200]>\n",
      "<Response [200]>\n",
      "<Response [200]>\n",
      "<Response [200]>\n",
      "<Response [200]>\n",
      "<Response [200]>\n",
      "<Response [200]>\n",
      "<Response [200]>\n",
      "<Response [200]>\n",
      "<Response [200]>\n",
      "<Response [200]>\n",
      "<Response [200]>\n",
      "<Response [200]>\n",
      "<Response [200]>\n",
      "<Response [200]>\n",
      "<Response [200]>\n",
      "<Response [200]>\n",
      "<Response [200]>\n",
      "<Response [200]>\n",
      "<Response [200]>\n",
      "<Response [200]>\n",
      "<Response [200]>\n",
      "<Response [200]>\n",
      "<Response [200]>\n",
      "<Response [200]>\n",
      "<Response [200]>\n",
      "<Response [200]>\n",
      "<Response [200]>\n",
      "<Response [200]>\n",
      "<Response [200]>\n",
      "<Response [200]>\n",
      "<Response [200]>\n",
      "<Response [200]>\n",
      "<Response [200]>\n",
      "<Response [200]>\n",
      "<Response [200]>\n",
      "<Response [200]>\n",
      "<Response [200]>\n",
      "<Response [200]>\n",
      "<Response [200]>\n",
      "<Response [200]>\n",
      "<Response [200]>\n",
      "<Response [200]>\n",
      "<Response [200]>\n",
      "<Response [200]>\n",
      "<Response [200]>\n",
      "<Response [200]>\n",
      "<Response [200]>\n",
      "<Response [200]>\n",
      "<Response [200]>\n",
      "<Response [200]>\n",
      "<Response [200]>\n",
      "<Response [200]>\n",
      "<Response [200]>\n",
      "<Response [200]>\n",
      "<Response [200]>\n",
      "<Response [200]>\n",
      "<Response [200]>\n",
      "<Response [200]>\n",
      "<Response [200]>\n",
      "<Response [200]>\n",
      "<Response [200]>\n",
      "<Response [200]>\n",
      "<Response [200]>\n",
      "<Response [200]>\n",
      "<Response [200]>\n",
      "<Response [200]>\n",
      "<Response [200]>\n",
      "<Response [200]>\n",
      "<Response [200]>\n",
      "<Response [200]>\n",
      "<Response [200]>\n",
      "<Response [200]>\n",
      "<Response [200]>\n",
      "<Response [200]>\n",
      "<Response [200]>\n",
      "<Response [200]>\n",
      "<Response [200]>\n",
      "<Response [200]>\n",
      "<Response [200]>\n",
      "<Response [200]>\n",
      "<Response [200]>\n",
      "<Response [200]>\n",
      "<Response [200]>\n",
      "<Response [200]>\n",
      "<Response [200]>\n",
      "<Response [200]>\n",
      "<Response [200]>\n",
      "<Response [200]>\n",
      "<Response [200]>\n",
      "<Response [200]>\n",
      "<Response [200]>\n",
      "<Response [200]>\n",
      "<Response [200]>\n",
      "<Response [200]>\n",
      "<Response [200]>\n",
      "<Response [200]>\n",
      "<Response [200]>\n",
      "<Response [200]>\n",
      "<Response [200]>\n",
      "<Response [200]>\n",
      "<Response [200]>\n",
      "<Response [200]>\n",
      "<Response [200]>\n",
      "<Response [200]>\n",
      "<Response [200]>\n",
      "<Response [200]>\n",
      "<Response [200]>\n",
      "<Response [200]>\n",
      "<Response [200]>\n",
      "<Response [200]>\n",
      "<Response [200]>\n",
      "<Response [200]>\n",
      "<Response [200]>\n",
      "<Response [200]>\n",
      "<Response [200]>\n",
      "<Response [200]>\n",
      "<Response [200]>\n",
      "<Response [200]>\n",
      "<Response [200]>\n",
      "<Response [200]>\n",
      "<Response [200]>\n",
      "<Response [200]>\n",
      "<Response [200]>\n",
      "<Response [200]>\n",
      "<Response [200]>\n",
      "<Response [200]>\n",
      "<Response [200]>\n",
      "<Response [200]>\n",
      "<Response [200]>\n",
      "<Response [200]>\n",
      "<Response [200]>\n",
      "<Response [200]>\n",
      "<Response [200]>\n",
      "<Response [200]>\n",
      "<Response [200]>\n",
      "<Response [200]>\n",
      "<Response [200]>\n",
      "<Response [200]>\n",
      "<Response [200]>\n",
      "<Response [200]>\n",
      "<Response [200]>\n",
      "<Response [200]>\n",
      "<Response [200]>\n",
      "<Response [200]>\n",
      "<Response [200]>\n",
      "<Response [200]>\n",
      "<Response [200]>\n",
      "<Response [200]>\n",
      "<Response [200]>\n",
      "<Response [200]>\n",
      "<Response [200]>\n",
      "<Response [200]>\n",
      "<Response [200]>\n",
      "<Response [200]>\n",
      "<Response [200]>\n",
      "<Response [200]>\n",
      "<Response [200]>\n",
      "<Response [200]>\n",
      "<Response [200]>\n",
      "<Response [200]>\n",
      "<Response [200]>\n",
      "<Response [200]>\n",
      "<Response [200]>\n",
      "<Response [200]>\n",
      "<Response [200]>\n",
      "<Response [200]>\n",
      "<Response [200]>\n",
      "<Response [200]>\n",
      "<Response [200]>\n",
      "<Response [200]>\n",
      "<Response [200]>\n",
      "<Response [200]>\n",
      "<Response [200]>\n",
      "<Response [200]>\n",
      "<Response [200]>\n",
      "<Response [200]>\n",
      "<Response [200]>\n",
      "<Response [200]>\n",
      "<Response [200]>\n",
      "<Response [200]>\n",
      "<Response [200]>\n",
      "<Response [200]>\n",
      "<Response [200]>\n",
      "<Response [200]>\n",
      "<Response [200]>\n",
      "<Response [200]>\n",
      "<Response [200]>\n",
      "<Response [200]>\n",
      "<Response [200]>\n",
      "<Response [200]>\n",
      "<Response [200]>\n",
      "<Response [200]>\n",
      "<Response [200]>\n",
      "<Response [200]>\n",
      "<Response [200]>\n",
      "<Response [200]>\n",
      "<Response [200]>\n",
      "<Response [200]>\n",
      "<Response [200]>\n",
      "<Response [200]>\n",
      "<Response [200]>\n",
      "<Response [200]>\n",
      "<Response [200]>\n",
      "<Response [200]>\n",
      "<Response [200]>\n",
      "<Response [200]>\n",
      "<Response [200]>\n",
      "<Response [200]>\n",
      "<Response [200]>\n",
      "<Response [200]>\n",
      "<Response [200]>\n",
      "<Response [200]>\n",
      "<Response [200]>\n",
      "<Response [200]>\n",
      "<Response [200]>\n",
      "<Response [200]>\n",
      "<Response [200]>\n",
      "<Response [200]>\n",
      "<Response [200]>\n",
      "<Response [200]>\n",
      "<Response [200]>\n",
      "<Response [200]>\n",
      "<Response [200]>\n",
      "<Response [200]>\n",
      "<Response [200]>\n",
      "<Response [200]>\n",
      "<Response [200]>\n",
      "<Response [200]>\n",
      "<Response [200]>\n",
      "<Response [200]>\n",
      "<Response [200]>\n",
      "<Response [200]>\n",
      "<Response [200]>\n",
      "<Response [200]>\n",
      "<Response [200]>\n",
      "<Response [200]>\n",
      "<Response [200]>\n",
      "<Response [200]>\n",
      "<Response [200]>\n",
      "<Response [200]>\n",
      "<Response [200]>\n",
      "<Response [200]>\n",
      "<Response [200]>\n",
      "<Response [200]>\n",
      "<Response [200]>\n",
      "<Response [200]>\n",
      "<Response [200]>\n",
      "<Response [200]>\n",
      "<Response [200]>\n",
      "<Response [200]>\n",
      "<Response [200]>\n",
      "<Response [200]>\n",
      "<Response [200]>\n",
      "<Response [200]>\n",
      "<Response [200]>\n",
      "<Response [200]>\n",
      "<Response [200]>\n",
      "<Response [200]>\n",
      "<Response [200]>\n",
      "<Response [200]>\n",
      "<Response [200]>\n",
      "<Response [200]>\n",
      "<Response [200]>\n",
      "<Response [200]>\n",
      "<Response [200]>\n",
      "<Response [200]>\n",
      "<Response [200]>\n",
      "<Response [200]>\n",
      "<Response [200]>\n",
      "<Response [200]>\n",
      "<Response [200]>\n",
      "<Response [200]>\n",
      "<Response [200]>\n",
      "<Response [200]>\n",
      "<Response [200]>\n",
      "<Response [200]>\n",
      "<Response [200]>\n",
      "<Response [200]>\n",
      "<Response [200]>\n",
      "<Response [200]>\n",
      "<Response [200]>\n",
      "<Response [200]>\n",
      "<Response [200]>\n",
      "<Response [200]>\n",
      "<Response [200]>\n",
      "<Response [200]>\n",
      "<Response [200]>\n",
      "<Response [200]>\n",
      "<Response [200]>\n",
      "<Response [200]>\n",
      "<Response [200]>\n",
      "<Response [200]>\n",
      "<Response [200]>\n",
      "<Response [200]>\n",
      "<Response [200]>\n",
      "<Response [200]>\n",
      "<Response [200]>\n",
      "<Response [200]>\n",
      "<Response [200]>\n",
      "<Response [200]>\n",
      "<Response [200]>\n",
      "<Response [200]>\n",
      "<Response [200]>\n",
      "<Response [200]>\n",
      "<Response [200]>\n",
      "<Response [200]>\n",
      "<Response [200]>\n",
      "<Response [200]>\n",
      "<Response [200]>\n",
      "<Response [200]>\n",
      "<Response [200]>\n",
      "<Response [200]>\n",
      "<Response [200]>\n",
      "<Response [200]>\n",
      "<Response [200]>\n",
      "<Response [200]>\n",
      "<Response [200]>\n",
      "<Response [200]>\n",
      "<Response [200]>\n",
      "<Response [200]>\n",
      "<Response [200]>\n",
      "<Response [200]>\n",
      "<Response [200]>\n",
      "<Response [200]>\n",
      "<Response [200]>\n",
      "<Response [200]>\n",
      "<Response [200]>\n",
      "<Response [200]>\n",
      "<Response [200]>\n",
      "<Response [200]>\n",
      "<Response [200]>\n",
      "<Response [200]>\n",
      "<Response [200]>\n",
      "<Response [200]>\n",
      "<Response [200]>\n",
      "<Response [200]>\n",
      "<Response [200]>\n",
      "<Response [200]>\n",
      "<Response [200]>\n"
     ]
    }
   ],
   "source": [
    "for pelicula in lista_peliculas[4680:]:\n",
    "\n",
    "    response = requests.get(pelicula)\n",
    "    soup = BeautifulSoup(response.text, 'html.parser')\n",
    "    print(response)\n",
    "\n",
    "    duracion = soup.find('dd', {'itemprop':'duration'}).text.strip(' min.')\n",
    "    lista_duraciones.append(int(duracion))\n",
    "\n",
    "    genero = soup.find('span', {'itemprop':'genre'}).text\n",
    "    lista_generos.append(genero)\n",
    "\n",
    "    direccion = soup.find('a', {'itemprop':'url'})\n",
    "    director = direccion['title']\n",
    "    lista_directores.append(director)\n",
    "\n",
    "    guionista = soup.find('span', {'class':'nb'}).text\n",
    "    lista_guionistas.append(guionista)\n",
    "\n",
    "    # actor = soup.find('div', {'itemprop': 'name'}).text\n",
    "    # lista_actores.append(actor)\n",
    "\n",
    "    # bandera = soup.find('img', {'class':'nflag'})\n",
    "    # pais = bandera['alt']\n",
    "    # lista_paises.append(pais)\n",
    "\n",
    "    ratio = soup.find('div', {'id':'movie-rat-avg'})\n",
    "    nota = ratio['content']\n",
    "    lista_notas.append(float(nota))\n",
    "\n",
    "    recuento = soup.find('span', {'itemprop':'ratingCount'})\n",
    "    voto = recuento['content']\n",
    "    lista_votos.append(int(voto))"
   ]
  },
  {
   "cell_type": "code",
   "execution_count": 237,
   "metadata": {},
   "outputs": [
    {
     "data": {
      "text/plain": [
       "5040"
      ]
     },
     "execution_count": 237,
     "metadata": {},
     "output_type": "execute_result"
    }
   ],
   "source": [
    "len(lista_duraciones)"
   ]
  },
  {
   "cell_type": "code",
   "execution_count": 222,
   "metadata": {},
   "outputs": [],
   "source": [
    "lista_duraciones = lista_duraciones[:4500]"
   ]
  },
  {
   "cell_type": "code",
   "execution_count": 225,
   "metadata": {},
   "outputs": [
    {
     "data": {
      "text/plain": [
       "4500"
      ]
     },
     "execution_count": 225,
     "metadata": {},
     "output_type": "execute_result"
    }
   ],
   "source": [
    "len(lista_generos)"
   ]
  },
  {
   "cell_type": "code",
   "execution_count": 224,
   "metadata": {},
   "outputs": [],
   "source": [
    "lista_generos = lista_generos[:4500]"
   ]
  },
  {
   "cell_type": "code",
   "execution_count": 227,
   "metadata": {},
   "outputs": [
    {
     "data": {
      "text/plain": [
       "4500"
      ]
     },
     "execution_count": 227,
     "metadata": {},
     "output_type": "execute_result"
    }
   ],
   "source": [
    "len(lista_directores)"
   ]
  },
  {
   "cell_type": "code",
   "execution_count": 226,
   "metadata": {},
   "outputs": [],
   "source": [
    "lista_directores = lista_directores[:4500]"
   ]
  },
  {
   "cell_type": "code",
   "execution_count": 229,
   "metadata": {},
   "outputs": [
    {
     "data": {
      "text/plain": [
       "4500"
      ]
     },
     "execution_count": 229,
     "metadata": {},
     "output_type": "execute_result"
    }
   ],
   "source": [
    "len(lista_guionistas)"
   ]
  },
  {
   "cell_type": "code",
   "execution_count": 228,
   "metadata": {},
   "outputs": [],
   "source": [
    "lista_guionistas = lista_guionistas[:4500]"
   ]
  },
  {
   "cell_type": "code",
   "execution_count": 195,
   "metadata": {},
   "outputs": [
    {
     "data": {
      "text/plain": [
       "0"
      ]
     },
     "execution_count": 195,
     "metadata": {},
     "output_type": "execute_result"
    }
   ],
   "source": [
    "len(lista_actores)"
   ]
  },
  {
   "cell_type": "code",
   "execution_count": 159,
   "metadata": {},
   "outputs": [
    {
     "data": {
      "text/plain": [
       "0"
      ]
     },
     "execution_count": 159,
     "metadata": {},
     "output_type": "execute_result"
    }
   ],
   "source": [
    "len(lista_paises)"
   ]
  },
  {
   "cell_type": "code",
   "execution_count": 231,
   "metadata": {},
   "outputs": [
    {
     "data": {
      "text/plain": [
       "4500"
      ]
     },
     "execution_count": 231,
     "metadata": {},
     "output_type": "execute_result"
    }
   ],
   "source": [
    "len(lista_notas)"
   ]
  },
  {
   "cell_type": "code",
   "execution_count": 230,
   "metadata": {},
   "outputs": [],
   "source": [
    "lista_notas = lista_notas[:4500]"
   ]
  },
  {
   "cell_type": "code",
   "execution_count": 233,
   "metadata": {},
   "outputs": [
    {
     "data": {
      "text/plain": [
       "4500"
      ]
     },
     "execution_count": 233,
     "metadata": {},
     "output_type": "execute_result"
    }
   ],
   "source": [
    "len(lista_votos)"
   ]
  },
  {
   "cell_type": "code",
   "execution_count": 232,
   "metadata": {},
   "outputs": [],
   "source": [
    "lista_votos = lista_votos[:4500]"
   ]
  },
  {
   "attachments": {},
   "cell_type": "markdown",
   "metadata": {},
   "source": [
    "### PRUEBA"
   ]
  },
  {
   "cell_type": "code",
   "execution_count": 130,
   "metadata": {},
   "outputs": [],
   "source": [
    "lista_actores = []"
   ]
  },
  {
   "cell_type": "code",
   "execution_count": 131,
   "metadata": {},
   "outputs": [
    {
     "name": "stdout",
     "output_type": "stream",
     "text": [
      "<Response [200]>\n",
      "<Response [200]>\n",
      "<Response [200]>\n"
     ]
    }
   ],
   "source": [
    "for pelicula in lista_peliculas[:3]:\n",
    "\n",
    "    response = requests.get(pelicula)\n",
    "    soup = BeautifulSoup(response.text, 'html.parser')\n",
    "    print(response)\n",
    "\n",
    "    actor = soup.find('dd', {'class':'card-cast-debug'}).text\n",
    "    lista_directores.append(actor)"
   ]
  },
  {
   "cell_type": "code",
   "execution_count": 132,
   "metadata": {},
   "outputs": [
    {
     "data": {
      "text/plain": [
       "[]"
      ]
     },
     "execution_count": 132,
     "metadata": {},
     "output_type": "execute_result"
    }
   ],
   "source": [
    "lista_actores"
   ]
  },
  {
   "cell_type": "code",
   "execution_count": 252,
   "metadata": {},
   "outputs": [],
   "source": [
    "fa['GUION'] = lista_guionistas"
   ]
  },
  {
   "cell_type": "code",
   "execution_count": 253,
   "metadata": {},
   "outputs": [],
   "source": [
    "fa2 = {'NOTA': []}"
   ]
  },
  {
   "cell_type": "code",
   "execution_count": 255,
   "metadata": {},
   "outputs": [],
   "source": [
    "fa2['VOTOS'] = lista_votos"
   ]
  },
  {
   "cell_type": "code",
   "execution_count": 312,
   "metadata": {},
   "outputs": [
    {
     "data": {
      "text/plain": [
       "8"
      ]
     },
     "execution_count": 312,
     "metadata": {},
     "output_type": "execute_result"
    }
   ],
   "source": [
    "len(fa)"
   ]
  },
  {
   "cell_type": "code",
   "execution_count": 328,
   "metadata": {},
   "outputs": [
    {
     "data": {
      "text/plain": [
       "5040"
      ]
     },
     "execution_count": 328,
     "metadata": {},
     "output_type": "execute_result"
    }
   ],
   "source": [
    "len(fa['PROTAGONISTA'])"
   ]
  },
  {
   "cell_type": "code",
   "execution_count": 330,
   "metadata": {},
   "outputs": [],
   "source": [
    "fa['VOTOS'] = lista_votos"
   ]
  },
  {
   "cell_type": "code",
   "execution_count": 331,
   "metadata": {},
   "outputs": [
    {
     "data": {
      "text/plain": [
       "10"
      ]
     },
     "execution_count": 331,
     "metadata": {},
     "output_type": "execute_result"
    }
   ],
   "source": [
    "len(fa)"
   ]
  },
  {
   "attachments": {},
   "cell_type": "markdown",
   "metadata": {},
   "source": [
    "### DATAFRAME"
   ]
  },
  {
   "cell_type": "code",
   "execution_count": 332,
   "metadata": {},
   "outputs": [],
   "source": [
    "df = pd.DataFrame(fa)"
   ]
  },
  {
   "cell_type": "code",
   "execution_count": 337,
   "metadata": {},
   "outputs": [],
   "source": [
    "df.to_csv('FilmAffinity', index=False)"
   ]
  },
  {
   "cell_type": "code",
   "execution_count": 309,
   "metadata": {},
   "outputs": [
    {
     "ename": "ValueError",
     "evalue": "All arrays must be of the same length",
     "output_type": "error",
     "traceback": [
      "\u001b[1;31m---------------------------------------------------------------------------\u001b[0m",
      "\u001b[1;31mValueError\u001b[0m                                Traceback (most recent call last)",
      "\u001b[1;32m~\\AppData\\Local\\Temp\\ipykernel_21296\\3298032956.py\u001b[0m in \u001b[0;36m<module>\u001b[1;34m\u001b[0m\n\u001b[1;32m----> 1\u001b[1;33m \u001b[0mfilms\u001b[0m \u001b[1;33m=\u001b[0m \u001b[0mpd\u001b[0m\u001b[1;33m.\u001b[0m\u001b[0mDataFrame\u001b[0m\u001b[1;33m(\u001b[0m\u001b[0mfa\u001b[0m\u001b[1;33m)\u001b[0m\u001b[1;33m\u001b[0m\u001b[1;33m\u001b[0m\u001b[0m\n\u001b[0m",
      "\u001b[1;32mc:\\Users\\XaviA\\AppData\\Local\\Programs\\Python\\Python37\\lib\\site-packages\\pandas\\core\\frame.py\u001b[0m in \u001b[0;36m__init__\u001b[1;34m(self, data, index, columns, dtype, copy)\u001b[0m\n\u001b[0;32m    612\u001b[0m         \u001b[1;32melif\u001b[0m \u001b[0misinstance\u001b[0m\u001b[1;33m(\u001b[0m\u001b[0mdata\u001b[0m\u001b[1;33m,\u001b[0m \u001b[0mdict\u001b[0m\u001b[1;33m)\u001b[0m\u001b[1;33m:\u001b[0m\u001b[1;33m\u001b[0m\u001b[1;33m\u001b[0m\u001b[0m\n\u001b[0;32m    613\u001b[0m             \u001b[1;31m# GH#38939 de facto copy defaults to False only in non-dict cases\u001b[0m\u001b[1;33m\u001b[0m\u001b[1;33m\u001b[0m\u001b[1;33m\u001b[0m\u001b[0m\n\u001b[1;32m--> 614\u001b[1;33m             \u001b[0mmgr\u001b[0m \u001b[1;33m=\u001b[0m \u001b[0mdict_to_mgr\u001b[0m\u001b[1;33m(\u001b[0m\u001b[0mdata\u001b[0m\u001b[1;33m,\u001b[0m \u001b[0mindex\u001b[0m\u001b[1;33m,\u001b[0m \u001b[0mcolumns\u001b[0m\u001b[1;33m,\u001b[0m \u001b[0mdtype\u001b[0m\u001b[1;33m=\u001b[0m\u001b[0mdtype\u001b[0m\u001b[1;33m,\u001b[0m \u001b[0mcopy\u001b[0m\u001b[1;33m=\u001b[0m\u001b[0mcopy\u001b[0m\u001b[1;33m,\u001b[0m \u001b[0mtyp\u001b[0m\u001b[1;33m=\u001b[0m\u001b[0mmanager\u001b[0m\u001b[1;33m)\u001b[0m\u001b[1;33m\u001b[0m\u001b[1;33m\u001b[0m\u001b[0m\n\u001b[0m\u001b[0;32m    615\u001b[0m         \u001b[1;32melif\u001b[0m \u001b[0misinstance\u001b[0m\u001b[1;33m(\u001b[0m\u001b[0mdata\u001b[0m\u001b[1;33m,\u001b[0m \u001b[0mma\u001b[0m\u001b[1;33m.\u001b[0m\u001b[0mMaskedArray\u001b[0m\u001b[1;33m)\u001b[0m\u001b[1;33m:\u001b[0m\u001b[1;33m\u001b[0m\u001b[1;33m\u001b[0m\u001b[0m\n\u001b[0;32m    616\u001b[0m             \u001b[1;32mimport\u001b[0m \u001b[0mnumpy\u001b[0m\u001b[1;33m.\u001b[0m\u001b[0mma\u001b[0m\u001b[1;33m.\u001b[0m\u001b[0mmrecords\u001b[0m \u001b[1;32mas\u001b[0m \u001b[0mmrecords\u001b[0m\u001b[1;33m\u001b[0m\u001b[1;33m\u001b[0m\u001b[0m\n",
      "\u001b[1;32mc:\\Users\\XaviA\\AppData\\Local\\Programs\\Python\\Python37\\lib\\site-packages\\pandas\\core\\internals\\construction.py\u001b[0m in \u001b[0;36mdict_to_mgr\u001b[1;34m(data, index, columns, dtype, typ, copy)\u001b[0m\n\u001b[0;32m    463\u001b[0m \u001b[1;33m\u001b[0m\u001b[0m\n\u001b[0;32m    464\u001b[0m     return arrays_to_mgr(\n\u001b[1;32m--> 465\u001b[1;33m         \u001b[0marrays\u001b[0m\u001b[1;33m,\u001b[0m \u001b[0mdata_names\u001b[0m\u001b[1;33m,\u001b[0m \u001b[0mindex\u001b[0m\u001b[1;33m,\u001b[0m \u001b[0mcolumns\u001b[0m\u001b[1;33m,\u001b[0m \u001b[0mdtype\u001b[0m\u001b[1;33m=\u001b[0m\u001b[0mdtype\u001b[0m\u001b[1;33m,\u001b[0m \u001b[0mtyp\u001b[0m\u001b[1;33m=\u001b[0m\u001b[0mtyp\u001b[0m\u001b[1;33m,\u001b[0m \u001b[0mconsolidate\u001b[0m\u001b[1;33m=\u001b[0m\u001b[0mcopy\u001b[0m\u001b[1;33m\u001b[0m\u001b[1;33m\u001b[0m\u001b[0m\n\u001b[0m\u001b[0;32m    466\u001b[0m     )\n\u001b[0;32m    467\u001b[0m \u001b[1;33m\u001b[0m\u001b[0m\n",
      "\u001b[1;32mc:\\Users\\XaviA\\AppData\\Local\\Programs\\Python\\Python37\\lib\\site-packages\\pandas\\core\\internals\\construction.py\u001b[0m in \u001b[0;36marrays_to_mgr\u001b[1;34m(arrays, arr_names, index, columns, dtype, verify_integrity, typ, consolidate)\u001b[0m\n\u001b[0;32m    117\u001b[0m         \u001b[1;31m# figure out the index, if necessary\u001b[0m\u001b[1;33m\u001b[0m\u001b[1;33m\u001b[0m\u001b[1;33m\u001b[0m\u001b[0m\n\u001b[0;32m    118\u001b[0m         \u001b[1;32mif\u001b[0m \u001b[0mindex\u001b[0m \u001b[1;32mis\u001b[0m \u001b[1;32mNone\u001b[0m\u001b[1;33m:\u001b[0m\u001b[1;33m\u001b[0m\u001b[1;33m\u001b[0m\u001b[0m\n\u001b[1;32m--> 119\u001b[1;33m             \u001b[0mindex\u001b[0m \u001b[1;33m=\u001b[0m \u001b[0m_extract_index\u001b[0m\u001b[1;33m(\u001b[0m\u001b[0marrays\u001b[0m\u001b[1;33m)\u001b[0m\u001b[1;33m\u001b[0m\u001b[1;33m\u001b[0m\u001b[0m\n\u001b[0m\u001b[0;32m    120\u001b[0m         \u001b[1;32melse\u001b[0m\u001b[1;33m:\u001b[0m\u001b[1;33m\u001b[0m\u001b[1;33m\u001b[0m\u001b[0m\n\u001b[0;32m    121\u001b[0m             \u001b[0mindex\u001b[0m \u001b[1;33m=\u001b[0m \u001b[0mensure_index\u001b[0m\u001b[1;33m(\u001b[0m\u001b[0mindex\u001b[0m\u001b[1;33m)\u001b[0m\u001b[1;33m\u001b[0m\u001b[1;33m\u001b[0m\u001b[0m\n",
      "\u001b[1;32mc:\\Users\\XaviA\\AppData\\Local\\Programs\\Python\\Python37\\lib\\site-packages\\pandas\\core\\internals\\construction.py\u001b[0m in \u001b[0;36m_extract_index\u001b[1;34m(data)\u001b[0m\n\u001b[0;32m    633\u001b[0m             \u001b[0mlengths\u001b[0m \u001b[1;33m=\u001b[0m \u001b[0mlist\u001b[0m\u001b[1;33m(\u001b[0m\u001b[0mset\u001b[0m\u001b[1;33m(\u001b[0m\u001b[0mraw_lengths\u001b[0m\u001b[1;33m)\u001b[0m\u001b[1;33m)\u001b[0m\u001b[1;33m\u001b[0m\u001b[1;33m\u001b[0m\u001b[0m\n\u001b[0;32m    634\u001b[0m             \u001b[1;32mif\u001b[0m \u001b[0mlen\u001b[0m\u001b[1;33m(\u001b[0m\u001b[0mlengths\u001b[0m\u001b[1;33m)\u001b[0m \u001b[1;33m>\u001b[0m \u001b[1;36m1\u001b[0m\u001b[1;33m:\u001b[0m\u001b[1;33m\u001b[0m\u001b[1;33m\u001b[0m\u001b[0m\n\u001b[1;32m--> 635\u001b[1;33m                 \u001b[1;32mraise\u001b[0m \u001b[0mValueError\u001b[0m\u001b[1;33m(\u001b[0m\u001b[1;34m\"All arrays must be of the same length\"\u001b[0m\u001b[1;33m)\u001b[0m\u001b[1;33m\u001b[0m\u001b[1;33m\u001b[0m\u001b[0m\n\u001b[0m\u001b[0;32m    636\u001b[0m \u001b[1;33m\u001b[0m\u001b[0m\n\u001b[0;32m    637\u001b[0m             \u001b[1;32mif\u001b[0m \u001b[0mhave_dicts\u001b[0m\u001b[1;33m:\u001b[0m\u001b[1;33m\u001b[0m\u001b[1;33m\u001b[0m\u001b[0m\n",
      "\u001b[1;31mValueError\u001b[0m: All arrays must be of the same length"
     ]
    }
   ],
   "source": [
    "films = pd.DataFrame(fa)"
   ]
  },
  {
   "cell_type": "code",
   "execution_count": 258,
   "metadata": {},
   "outputs": [],
   "source": [
    "films.to_csv('films', index=False)"
   ]
  },
  {
   "cell_type": "code",
   "execution_count": 259,
   "metadata": {},
   "outputs": [],
   "source": [
    "films2 = pd.DataFrame(fa2)"
   ]
  },
  {
   "cell_type": "code",
   "execution_count": 261,
   "metadata": {},
   "outputs": [],
   "source": [
    "films2.to_csv('films2', index=False)"
   ]
  },
  {
   "cell_type": "code",
   "execution_count": 5,
   "metadata": {},
   "outputs": [
    {
     "data": {
      "text/html": [
       "<div>\n",
       "<style scoped>\n",
       "    .dataframe tbody tr th:only-of-type {\n",
       "        vertical-align: middle;\n",
       "    }\n",
       "\n",
       "    .dataframe tbody tr th {\n",
       "        vertical-align: top;\n",
       "    }\n",
       "\n",
       "    .dataframe thead th {\n",
       "        text-align: right;\n",
       "    }\n",
       "</style>\n",
       "<table border=\"1\" class=\"dataframe\">\n",
       "  <thead>\n",
       "    <tr style=\"text-align: right;\">\n",
       "      <th></th>\n",
       "      <th>TITULO</th>\n",
       "      <th>AÑO</th>\n",
       "      <th>DURACION (min)</th>\n",
       "      <th>GENERO</th>\n",
       "      <th>DIRECCION</th>\n",
       "      <th>GUION</th>\n",
       "      <th>PROTAGONISTA</th>\n",
       "      <th>PAIS</th>\n",
       "      <th>NOTA</th>\n",
       "      <th>VOTOS</th>\n",
       "    </tr>\n",
       "  </thead>\n",
       "  <tbody>\n",
       "    <tr>\n",
       "      <th>0</th>\n",
       "      <td>El padrino</td>\n",
       "      <td>1972</td>\n",
       "      <td>175</td>\n",
       "      <td>Drama</td>\n",
       "      <td>Francis Ford Coppola</td>\n",
       "      <td>Francis Ford Coppola</td>\n",
       "      <td>Marlon Brando</td>\n",
       "      <td>Estados Unidos</td>\n",
       "      <td>9.0</td>\n",
       "      <td>174133</td>\n",
       "    </tr>\n",
       "    <tr>\n",
       "      <th>1</th>\n",
       "      <td>El padrino. Parte II</td>\n",
       "      <td>1974</td>\n",
       "      <td>200</td>\n",
       "      <td>Drama</td>\n",
       "      <td>Francis Ford Coppola</td>\n",
       "      <td>Francis Ford Coppola</td>\n",
       "      <td>Al Pacino</td>\n",
       "      <td>Estados Unidos</td>\n",
       "      <td>8.9</td>\n",
       "      <td>138933</td>\n",
       "    </tr>\n",
       "    <tr>\n",
       "      <th>2</th>\n",
       "      <td>La lista de Schindler</td>\n",
       "      <td>1993</td>\n",
       "      <td>195</td>\n",
       "      <td>Drama</td>\n",
       "      <td>Steven Spielberg</td>\n",
       "      <td>Steven Spielberg</td>\n",
       "      <td>Liam Neeson</td>\n",
       "      <td>Estados Unidos</td>\n",
       "      <td>8.7</td>\n",
       "      <td>174440</td>\n",
       "    </tr>\n",
       "    <tr>\n",
       "      <th>3</th>\n",
       "      <td>Cadena perpetua</td>\n",
       "      <td>1994</td>\n",
       "      <td>142</td>\n",
       "      <td>Drama</td>\n",
       "      <td>Frank Darabont</td>\n",
       "      <td>Frank Darabont</td>\n",
       "      <td>Tim Robbins</td>\n",
       "      <td>Estados Unidos</td>\n",
       "      <td>8.6</td>\n",
       "      <td>168635</td>\n",
       "    </tr>\n",
       "    <tr>\n",
       "      <th>4</th>\n",
       "      <td>Pulp Fiction</td>\n",
       "      <td>1994</td>\n",
       "      <td>153</td>\n",
       "      <td>Thriller</td>\n",
       "      <td>Quentin Tarantino</td>\n",
       "      <td>Quentin Tarantino</td>\n",
       "      <td>John Travolta</td>\n",
       "      <td>Estados Unidos</td>\n",
       "      <td>8.6</td>\n",
       "      <td>202065</td>\n",
       "    </tr>\n",
       "    <tr>\n",
       "      <th>...</th>\n",
       "      <td>...</td>\n",
       "      <td>...</td>\n",
       "      <td>...</td>\n",
       "      <td>...</td>\n",
       "      <td>...</td>\n",
       "      <td>...</td>\n",
       "      <td>...</td>\n",
       "      <td>...</td>\n",
       "      <td>...</td>\n",
       "      <td>...</td>\n",
       "    </tr>\n",
       "    <tr>\n",
       "      <th>5035</th>\n",
       "      <td>El piloto</td>\n",
       "      <td>2023</td>\n",
       "      <td>107</td>\n",
       "      <td>Acción</td>\n",
       "      <td>Jean-François Richet</td>\n",
       "      <td>Jean-François Richet</td>\n",
       "      <td>Gerard Butler</td>\n",
       "      <td>Estados Unidos</td>\n",
       "      <td>5.8</td>\n",
       "      <td>1762</td>\n",
       "    </tr>\n",
       "    <tr>\n",
       "      <th>5036</th>\n",
       "      <td>Hampones</td>\n",
       "      <td>1997</td>\n",
       "      <td>130</td>\n",
       "      <td>Thriller</td>\n",
       "      <td>Bill Duke</td>\n",
       "      <td>Bill Duke</td>\n",
       "      <td>Tim Roth</td>\n",
       "      <td>Estados Unidos</td>\n",
       "      <td>5.8</td>\n",
       "      <td>1840</td>\n",
       "    </tr>\n",
       "    <tr>\n",
       "      <th>5037</th>\n",
       "      <td>Cabalga con el diablo</td>\n",
       "      <td>1999</td>\n",
       "      <td>145</td>\n",
       "      <td>Western</td>\n",
       "      <td>Ang Lee</td>\n",
       "      <td>Ang Lee</td>\n",
       "      <td>Tobey Maguire</td>\n",
       "      <td>Estados Unidos</td>\n",
       "      <td>5.8</td>\n",
       "      <td>2154</td>\n",
       "    </tr>\n",
       "    <tr>\n",
       "      <th>5038</th>\n",
       "      <td>The Brave</td>\n",
       "      <td>1997</td>\n",
       "      <td>123</td>\n",
       "      <td>Drama</td>\n",
       "      <td>Johnny Depp</td>\n",
       "      <td>Johnny Depp</td>\n",
       "      <td>Johnny Depp</td>\n",
       "      <td>Estados Unidos</td>\n",
       "      <td>5.8</td>\n",
       "      <td>2350</td>\n",
       "    </tr>\n",
       "    <tr>\n",
       "      <th>5039</th>\n",
       "      <td>Amanece en Edimburgo</td>\n",
       "      <td>2013</td>\n",
       "      <td>100</td>\n",
       "      <td>Musical</td>\n",
       "      <td>Dexter Fletcher</td>\n",
       "      <td>Dexter Fletcher</td>\n",
       "      <td>Peter Mullan</td>\n",
       "      <td>Reino Unido</td>\n",
       "      <td>5.8</td>\n",
       "      <td>2938</td>\n",
       "    </tr>\n",
       "  </tbody>\n",
       "</table>\n",
       "<p>5040 rows × 10 columns</p>\n",
       "</div>"
      ],
      "text/plain": [
       "                     TITULO   AÑO  DURACION (min)    GENERO  \\\n",
       "0                El padrino  1972             175     Drama   \n",
       "1      El padrino. Parte II  1974             200     Drama   \n",
       "2     La lista de Schindler  1993             195     Drama   \n",
       "3           Cadena perpetua  1994             142     Drama   \n",
       "4              Pulp Fiction  1994             153  Thriller   \n",
       "...                     ...   ...             ...       ...   \n",
       "5035              El piloto  2023             107    Acción   \n",
       "5036               Hampones  1997             130  Thriller   \n",
       "5037  Cabalga con el diablo  1999             145   Western   \n",
       "5038              The Brave  1997             123     Drama   \n",
       "5039   Amanece en Edimburgo  2013             100   Musical   \n",
       "\n",
       "                 DIRECCION                 GUION   PROTAGONISTA  \\\n",
       "0     Francis Ford Coppola  Francis Ford Coppola  Marlon Brando   \n",
       "1     Francis Ford Coppola  Francis Ford Coppola      Al Pacino   \n",
       "2         Steven Spielberg      Steven Spielberg    Liam Neeson   \n",
       "3           Frank Darabont        Frank Darabont    Tim Robbins   \n",
       "4        Quentin Tarantino     Quentin Tarantino  John Travolta   \n",
       "...                    ...                   ...            ...   \n",
       "5035  Jean-François Richet  Jean-François Richet  Gerard Butler   \n",
       "5036             Bill Duke             Bill Duke       Tim Roth   \n",
       "5037               Ang Lee               Ang Lee  Tobey Maguire   \n",
       "5038           Johnny Depp           Johnny Depp    Johnny Depp   \n",
       "5039       Dexter Fletcher       Dexter Fletcher   Peter Mullan   \n",
       "\n",
       "                PAIS  NOTA   VOTOS  \n",
       "0     Estados Unidos   9.0  174133  \n",
       "1     Estados Unidos   8.9  138933  \n",
       "2     Estados Unidos   8.7  174440  \n",
       "3     Estados Unidos   8.6  168635  \n",
       "4     Estados Unidos   8.6  202065  \n",
       "...              ...   ...     ...  \n",
       "5035  Estados Unidos   5.8    1762  \n",
       "5036  Estados Unidos   5.8    1840  \n",
       "5037  Estados Unidos   5.8    2154  \n",
       "5038  Estados Unidos   5.8    2350  \n",
       "5039     Reino Unido   5.8    2938  \n",
       "\n",
       "[5040 rows x 10 columns]"
      ]
     },
     "execution_count": 5,
     "metadata": {},
     "output_type": "execute_result"
    }
   ],
   "source": [
    "df"
   ]
  },
  {
   "cell_type": "code",
   "execution_count": 335,
   "metadata": {},
   "outputs": [],
   "source": [
    "df = df.rename(columns={'AÑOS': 'AÑO'})"
   ]
  },
  {
   "cell_type": "code",
   "execution_count": 8,
   "metadata": {},
   "outputs": [],
   "source": [
    "df = df.sort_values('TITULO')"
   ]
  },
  {
   "cell_type": "code",
   "execution_count": 10,
   "metadata": {},
   "outputs": [
    {
     "data": {
      "text/html": [
       "<div>\n",
       "<style scoped>\n",
       "    .dataframe tbody tr th:only-of-type {\n",
       "        vertical-align: middle;\n",
       "    }\n",
       "\n",
       "    .dataframe tbody tr th {\n",
       "        vertical-align: top;\n",
       "    }\n",
       "\n",
       "    .dataframe thead th {\n",
       "        text-align: right;\n",
       "    }\n",
       "</style>\n",
       "<table border=\"1\" class=\"dataframe\">\n",
       "  <thead>\n",
       "    <tr style=\"text-align: right;\">\n",
       "      <th></th>\n",
       "      <th>AÑO</th>\n",
       "      <th>DURACION (min)</th>\n",
       "      <th>GENERO</th>\n",
       "      <th>DIRECCION</th>\n",
       "      <th>GUION</th>\n",
       "      <th>PROTAGONISTA</th>\n",
       "      <th>PAIS</th>\n",
       "      <th>NOTA</th>\n",
       "      <th>VOTOS</th>\n",
       "    </tr>\n",
       "    <tr>\n",
       "      <th>TITULO</th>\n",
       "      <th></th>\n",
       "      <th></th>\n",
       "      <th></th>\n",
       "      <th></th>\n",
       "      <th></th>\n",
       "      <th></th>\n",
       "      <th></th>\n",
       "      <th></th>\n",
       "      <th></th>\n",
       "    </tr>\n",
       "  </thead>\n",
       "  <tbody>\n",
       "    <tr>\n",
       "      <th>(500) días juntos</th>\n",
       "      <td>2009</td>\n",
       "      <td>96</td>\n",
       "      <td>Romance</td>\n",
       "      <td>Marc Webb</td>\n",
       "      <td>Marc Webb</td>\n",
       "      <td>Joseph Gordon-Levitt</td>\n",
       "      <td>Estados Unidos</td>\n",
       "      <td>6.9</td>\n",
       "      <td>62814</td>\n",
       "    </tr>\n",
       "    <tr>\n",
       "      <th>...Y si no, nos enfadamos</th>\n",
       "      <td>1974</td>\n",
       "      <td>92</td>\n",
       "      <td>Comedia</td>\n",
       "      <td>Marcello Fondato</td>\n",
       "      <td>Marcello Fondato</td>\n",
       "      <td>Terence Hill</td>\n",
       "      <td>Italia</td>\n",
       "      <td>5.9</td>\n",
       "      <td>5238</td>\n",
       "    </tr>\n",
       "    <tr>\n",
       "      <th>10 razones para odiarte</th>\n",
       "      <td>1999</td>\n",
       "      <td>97</td>\n",
       "      <td>Comedia</td>\n",
       "      <td>Gil Junger</td>\n",
       "      <td>Gil Junger</td>\n",
       "      <td>Heath Ledger</td>\n",
       "      <td>Estados Unidos</td>\n",
       "      <td>5.9</td>\n",
       "      <td>21667</td>\n",
       "    </tr>\n",
       "    <tr>\n",
       "      <th>10.000 KM</th>\n",
       "      <td>2014</td>\n",
       "      <td>98</td>\n",
       "      <td>Romance</td>\n",
       "      <td>Carlos Marqués-Marcet</td>\n",
       "      <td>Carlos Marqués-Marcet</td>\n",
       "      <td>Natalia Tena</td>\n",
       "      <td>España</td>\n",
       "      <td>6.4</td>\n",
       "      <td>10015</td>\n",
       "    </tr>\n",
       "    <tr>\n",
       "      <th>100 metros</th>\n",
       "      <td>2016</td>\n",
       "      <td>108</td>\n",
       "      <td>Drama</td>\n",
       "      <td>Marcel Barrena</td>\n",
       "      <td>Marcel Barrena</td>\n",
       "      <td>Dani Rovira</td>\n",
       "      <td>España</td>\n",
       "      <td>6.6</td>\n",
       "      <td>8968</td>\n",
       "    </tr>\n",
       "  </tbody>\n",
       "</table>\n",
       "</div>"
      ],
      "text/plain": [
       "                            AÑO  DURACION (min)   GENERO  \\\n",
       "TITULO                                                     \n",
       "(500) días juntos          2009              96  Romance   \n",
       "...Y si no, nos enfadamos  1974              92  Comedia   \n",
       "10 razones para odiarte    1999              97  Comedia   \n",
       "10.000 KM                  2014              98  Romance   \n",
       "100 metros                 2016             108    Drama   \n",
       "\n",
       "                                       DIRECCION                  GUION  \\\n",
       "TITULO                                                                    \n",
       "(500) días juntos                      Marc Webb              Marc Webb   \n",
       "...Y si no, nos enfadamos       Marcello Fondato       Marcello Fondato   \n",
       "10 razones para odiarte               Gil Junger             Gil Junger   \n",
       "10.000 KM                  Carlos Marqués-Marcet  Carlos Marqués-Marcet   \n",
       "100 metros                        Marcel Barrena         Marcel Barrena   \n",
       "\n",
       "                                   PROTAGONISTA            PAIS  NOTA  VOTOS  \n",
       "TITULO                                                                        \n",
       "(500) días juntos          Joseph Gordon-Levitt  Estados Unidos   6.9  62814  \n",
       "...Y si no, nos enfadamos          Terence Hill          Italia   5.9   5238  \n",
       "10 razones para odiarte            Heath Ledger  Estados Unidos   5.9  21667  \n",
       "10.000 KM                          Natalia Tena          España   6.4  10015  \n",
       "100 metros                          Dani Rovira          España   6.6   8968  "
      ]
     },
     "execution_count": 10,
     "metadata": {},
     "output_type": "execute_result"
    }
   ],
   "source": [
    "df.set_index('TITULO').head()"
   ]
  },
  {
   "cell_type": "code",
   "execution_count": 13,
   "metadata": {},
   "outputs": [],
   "source": [
    "df.to_csv('DF', index=False)"
   ]
  },
  {
   "cell_type": "code",
   "execution_count": 15,
   "metadata": {},
   "outputs": [
    {
     "data": {
      "text/html": [
       "<div>\n",
       "<style scoped>\n",
       "    .dataframe tbody tr th:only-of-type {\n",
       "        vertical-align: middle;\n",
       "    }\n",
       "\n",
       "    .dataframe tbody tr th {\n",
       "        vertical-align: top;\n",
       "    }\n",
       "\n",
       "    .dataframe thead th {\n",
       "        text-align: right;\n",
       "    }\n",
       "</style>\n",
       "<table border=\"1\" class=\"dataframe\">\n",
       "  <thead>\n",
       "    <tr style=\"text-align: right;\">\n",
       "      <th></th>\n",
       "      <th>AÑO</th>\n",
       "      <th>DURACION (min)</th>\n",
       "      <th>GENERO</th>\n",
       "      <th>DIRECCION</th>\n",
       "      <th>GUION</th>\n",
       "      <th>PROTAGONISTA</th>\n",
       "      <th>PAIS</th>\n",
       "      <th>NOTA</th>\n",
       "      <th>VOTOS</th>\n",
       "    </tr>\n",
       "    <tr>\n",
       "      <th>TITULO</th>\n",
       "      <th></th>\n",
       "      <th></th>\n",
       "      <th></th>\n",
       "      <th></th>\n",
       "      <th></th>\n",
       "      <th></th>\n",
       "      <th></th>\n",
       "      <th></th>\n",
       "      <th></th>\n",
       "    </tr>\n",
       "  </thead>\n",
       "  <tbody>\n",
       "    <tr>\n",
       "      <th>(500) días juntos</th>\n",
       "      <td>2009</td>\n",
       "      <td>96</td>\n",
       "      <td>Romance</td>\n",
       "      <td>Marc Webb</td>\n",
       "      <td>Marc Webb</td>\n",
       "      <td>Joseph Gordon-Levitt</td>\n",
       "      <td>Estados Unidos</td>\n",
       "      <td>6.9</td>\n",
       "      <td>62814</td>\n",
       "    </tr>\n",
       "    <tr>\n",
       "      <th>...Y si no, nos enfadamos</th>\n",
       "      <td>1974</td>\n",
       "      <td>92</td>\n",
       "      <td>Comedia</td>\n",
       "      <td>Marcello Fondato</td>\n",
       "      <td>Marcello Fondato</td>\n",
       "      <td>Terence Hill</td>\n",
       "      <td>Italia</td>\n",
       "      <td>5.9</td>\n",
       "      <td>5238</td>\n",
       "    </tr>\n",
       "    <tr>\n",
       "      <th>10 razones para odiarte</th>\n",
       "      <td>1999</td>\n",
       "      <td>97</td>\n",
       "      <td>Comedia</td>\n",
       "      <td>Gil Junger</td>\n",
       "      <td>Gil Junger</td>\n",
       "      <td>Heath Ledger</td>\n",
       "      <td>Estados Unidos</td>\n",
       "      <td>5.9</td>\n",
       "      <td>21667</td>\n",
       "    </tr>\n",
       "    <tr>\n",
       "      <th>10.000 KM</th>\n",
       "      <td>2014</td>\n",
       "      <td>98</td>\n",
       "      <td>Romance</td>\n",
       "      <td>Carlos Marqués-Marcet</td>\n",
       "      <td>Carlos Marqués-Marcet</td>\n",
       "      <td>Natalia Tena</td>\n",
       "      <td>España</td>\n",
       "      <td>6.4</td>\n",
       "      <td>10015</td>\n",
       "    </tr>\n",
       "    <tr>\n",
       "      <th>100 metros</th>\n",
       "      <td>2016</td>\n",
       "      <td>108</td>\n",
       "      <td>Drama</td>\n",
       "      <td>Marcel Barrena</td>\n",
       "      <td>Marcel Barrena</td>\n",
       "      <td>Dani Rovira</td>\n",
       "      <td>España</td>\n",
       "      <td>6.6</td>\n",
       "      <td>8968</td>\n",
       "    </tr>\n",
       "    <tr>\n",
       "      <th>...</th>\n",
       "      <td>...</td>\n",
       "      <td>...</td>\n",
       "      <td>...</td>\n",
       "      <td>...</td>\n",
       "      <td>...</td>\n",
       "      <td>...</td>\n",
       "      <td>...</td>\n",
       "      <td>...</td>\n",
       "      <td>...</td>\n",
       "    </tr>\n",
       "    <tr>\n",
       "      <th>Ópera prima</th>\n",
       "      <td>1980</td>\n",
       "      <td>95</td>\n",
       "      <td>Comedia</td>\n",
       "      <td>Fernando Trueba</td>\n",
       "      <td>Fernando Trueba</td>\n",
       "      <td>Óscar Ladoire</td>\n",
       "      <td>España</td>\n",
       "      <td>6.2</td>\n",
       "      <td>3867</td>\n",
       "    </tr>\n",
       "    <tr>\n",
       "      <th>Última noche en el Soho</th>\n",
       "      <td>2021</td>\n",
       "      <td>118</td>\n",
       "      <td>Thriller</td>\n",
       "      <td>Edgar Wright</td>\n",
       "      <td>Edgar Wright</td>\n",
       "      <td>Thomasin McKenzie</td>\n",
       "      <td>Reino Unido</td>\n",
       "      <td>6.6</td>\n",
       "      <td>13374</td>\n",
       "    </tr>\n",
       "    <tr>\n",
       "      <th>Últimos días de la víctima</th>\n",
       "      <td>1982</td>\n",
       "      <td>94</td>\n",
       "      <td>Thriller</td>\n",
       "      <td>Adolfo Aristarain</td>\n",
       "      <td>Adolfo Aristarain</td>\n",
       "      <td>Federico Luppi</td>\n",
       "      <td>Argentina</td>\n",
       "      <td>7.3</td>\n",
       "      <td>1629</td>\n",
       "    </tr>\n",
       "    <tr>\n",
       "      <th>Único testigo</th>\n",
       "      <td>1985</td>\n",
       "      <td>112</td>\n",
       "      <td>Intriga</td>\n",
       "      <td>Peter Weir</td>\n",
       "      <td>Peter Weir</td>\n",
       "      <td>Harrison Ford</td>\n",
       "      <td>Estados Unidos</td>\n",
       "      <td>6.9</td>\n",
       "      <td>38696</td>\n",
       "    </tr>\n",
       "    <tr>\n",
       "      <th>‘71</th>\n",
       "      <td>2014</td>\n",
       "      <td>99</td>\n",
       "      <td>Acción</td>\n",
       "      <td>Yann Demange</td>\n",
       "      <td>Yann Demange</td>\n",
       "      <td>Jack O'Connell</td>\n",
       "      <td>Reino Unido</td>\n",
       "      <td>6.6</td>\n",
       "      <td>8305</td>\n",
       "    </tr>\n",
       "  </tbody>\n",
       "</table>\n",
       "<p>5040 rows × 9 columns</p>\n",
       "</div>"
      ],
      "text/plain": [
       "                             AÑO  DURACION (min)    GENERO  \\\n",
       "TITULO                                                       \n",
       "(500) días juntos           2009              96   Romance   \n",
       "...Y si no, nos enfadamos   1974              92   Comedia   \n",
       "10 razones para odiarte     1999              97   Comedia   \n",
       "10.000 KM                   2014              98   Romance   \n",
       "100 metros                  2016             108     Drama   \n",
       "...                          ...             ...       ...   \n",
       "Ópera prima                 1980              95   Comedia   \n",
       "Última noche en el Soho     2021             118  Thriller   \n",
       "Últimos días de la víctima  1982              94  Thriller   \n",
       "Único testigo               1985             112   Intriga   \n",
       "‘71                         2014              99    Acción   \n",
       "\n",
       "                                        DIRECCION                  GUION  \\\n",
       "TITULO                                                                     \n",
       "(500) días juntos                       Marc Webb              Marc Webb   \n",
       "...Y si no, nos enfadamos        Marcello Fondato       Marcello Fondato   \n",
       "10 razones para odiarte                Gil Junger             Gil Junger   \n",
       "10.000 KM                   Carlos Marqués-Marcet  Carlos Marqués-Marcet   \n",
       "100 metros                         Marcel Barrena         Marcel Barrena   \n",
       "...                                           ...                    ...   \n",
       "Ópera prima                       Fernando Trueba        Fernando Trueba   \n",
       "Última noche en el Soho              Edgar Wright           Edgar Wright   \n",
       "Últimos días de la víctima      Adolfo Aristarain      Adolfo Aristarain   \n",
       "Único testigo                          Peter Weir             Peter Weir   \n",
       "‘71                                  Yann Demange           Yann Demange   \n",
       "\n",
       "                                    PROTAGONISTA            PAIS  NOTA  VOTOS  \n",
       "TITULO                                                                         \n",
       "(500) días juntos           Joseph Gordon-Levitt  Estados Unidos   6.9  62814  \n",
       "...Y si no, nos enfadamos           Terence Hill          Italia   5.9   5238  \n",
       "10 razones para odiarte             Heath Ledger  Estados Unidos   5.9  21667  \n",
       "10.000 KM                           Natalia Tena          España   6.4  10015  \n",
       "100 metros                           Dani Rovira          España   6.6   8968  \n",
       "...                                          ...             ...   ...    ...  \n",
       "Ópera prima                        Óscar Ladoire          España   6.2   3867  \n",
       "Última noche en el Soho        Thomasin McKenzie     Reino Unido   6.6  13374  \n",
       "Últimos días de la víctima        Federico Luppi       Argentina   7.3   1629  \n",
       "Único testigo                      Harrison Ford  Estados Unidos   6.9  38696  \n",
       "‘71                               Jack O'Connell     Reino Unido   6.6   8305  \n",
       "\n",
       "[5040 rows x 9 columns]"
      ]
     },
     "execution_count": 15,
     "metadata": {},
     "output_type": "execute_result"
    }
   ],
   "source": [
    "pd.read_csv('DF', index_col=0)"
   ]
  }
 ],
 "metadata": {
  "kernelspec": {
   "display_name": "Python 3",
   "language": "python",
   "name": "python3"
  },
  "language_info": {
   "codemirror_mode": {
    "name": "ipython",
    "version": 3
   },
   "file_extension": ".py",
   "mimetype": "text/x-python",
   "name": "python",
   "nbconvert_exporter": "python",
   "pygments_lexer": "ipython3",
   "version": "3.7.4"
  },
  "orig_nbformat": 4
 },
 "nbformat": 4,
 "nbformat_minor": 2
}
